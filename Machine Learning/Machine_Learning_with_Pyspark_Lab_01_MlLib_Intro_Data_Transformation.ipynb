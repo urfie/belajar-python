{
  "nbformat": 4,
  "nbformat_minor": 0,
  "metadata": {
    "colab": {
      "provenance": []
    },
    "kernelspec": {
      "name": "python3",
      "display_name": "Python 3"
    }
  },
  "cells": [
    {
      "cell_type": "markdown",
      "source": [
        "# Hands-on MLlib Basic - Data Transformation\n"
      ],
      "metadata": {
        "id": "H6baN9TM6tjq"
      }
    },
    {
      "cell_type": "code",
      "metadata": {
        "id": "fdNhPxh_ZLBW",
        "colab": {
          "base_uri": "https://localhost:8080/"
        },
        "outputId": "ad129ee2-9c44-4d14-a026-6421cc0d63ba"
      },
      "source": [
        "#do this for Google Colab\n",
        "%pip install pyspark"
      ],
      "execution_count": 1,
      "outputs": [
        {
          "output_type": "stream",
          "name": "stdout",
          "text": [
            "Collecting pyspark\n",
            "  Downloading pyspark-3.5.0.tar.gz (316.9 MB)\n",
            "\u001b[2K     \u001b[90m━━━━━━━━━━━━━━━━━━━━━━━━━━━━━━━━━━━━━━━━\u001b[0m \u001b[32m316.9/316.9 MB\u001b[0m \u001b[31m4.5 MB/s\u001b[0m eta \u001b[36m0:00:00\u001b[0m\n",
            "\u001b[?25h  Preparing metadata (setup.py) ... \u001b[?25l\u001b[?25hdone\n",
            "Requirement already satisfied: py4j==0.10.9.7 in /usr/local/lib/python3.10/dist-packages (from pyspark) (0.10.9.7)\n",
            "Building wheels for collected packages: pyspark\n",
            "  Building wheel for pyspark (setup.py) ... \u001b[?25l\u001b[?25hdone\n",
            "  Created wheel for pyspark: filename=pyspark-3.5.0-py2.py3-none-any.whl size=317425345 sha256=70d54cefb3bfbd9446f668670e381ccfae699e4967e8ffbd9a3f8fbf08ec4bf9\n",
            "  Stored in directory: /root/.cache/pip/wheels/41/4e/10/c2cf2467f71c678cfc8a6b9ac9241e5e44a01940da8fbb17fc\n",
            "Successfully built pyspark\n",
            "Installing collected packages: pyspark\n",
            "Successfully installed pyspark-3.5.0\n"
          ]
        }
      ]
    },
    {
      "cell_type": "markdown",
      "source": [],
      "metadata": {
        "id": "VYFTsL1L6sik"
      }
    },
    {
      "cell_type": "code",
      "source": [
        "#import necessary packages\n",
        "import pyspark\n",
        "from pyspark.sql import SparkSession\n",
        "from pyspark.ml import Pipeline\n",
        "from pyspark.ml.feature import StringIndexer\n",
        "from pyspark.ml.feature import OneHotEncoder\n",
        "from pyspark.ml.feature import VectorAssembler\n"
      ],
      "metadata": {
        "id": "nF1Na4eaKGBd"
      },
      "execution_count": null,
      "outputs": []
    },
    {
      "cell_type": "code",
      "metadata": {
        "id": "bv1u5p7sa6fa"
      },
      "source": [
        "#Create Spark Session\n",
        "spark = SparkSession.builder.appName('MlLib Basics').getOrCreate()"
      ],
      "execution_count": null,
      "outputs": []
    },
    {
      "cell_type": "markdown",
      "source": [
        "Proses untuk melakukan one-hot encoding dari variabel kategorikal yaitu\n",
        "1. StringIndexer : mengubah string ke dalam integer\n",
        "2. OneHotEncoder : mengubah integer menjadi vektor one-hot encoding dalam bentuk *sparse vector format*\n",
        "3. VectorAssembler : menyatukan seluruh kolom input menjadi 1 vektor feature\n",
        "\n",
        "Bentuk sparse vector format : `[Vector size, [Index of nonzero elements], [Values of nonzero elements]]`\n",
        "\n",
        "Sehingga untuk hasil encoding gender yaitu `gender_encoded` = `[0]` dinyatakan dengan `[[1], [], []]` dan `[1]` dinyatakan dengan `[[1], [1], [1]]`\n",
        "\n"
      ],
      "metadata": {
        "id": "eT0x2RxX0iq4"
      }
    },
    {
      "cell_type": "code",
      "metadata": {
        "id": "-0vRjUHCfZ4Y"
      },
      "source": [
        "df = spark.createDataFrame( [(0, \"Male\"),\n",
        "                             (1, \"Male\"),\n",
        "                             (2, \"Female\"),\n",
        "                             (3, \"Female\"),\n",
        "                             (4, \"Female\"),\n",
        "                             (5, \"Male\")\n",
        "                          ], [\"id\", \"gender\"])\n",
        "\n",
        "df.show()\n",
        "\n",
        "#Indexer\n",
        "print(\"Hasil indexer\")\n",
        "indexer = StringIndexer(inputCol=\"gender\", outputCol=\"genderIndex\")\n",
        "indexed = indexer.fit(df).transform(df)\n",
        "indexed.show()"
      ],
      "execution_count": null,
      "outputs": []
    },
    {
      "cell_type": "code",
      "source": [
        "print(\"Hasil encoder dalam bentuk sparse\")\n",
        "encoder = OneHotEncoder(inputCols=[\"genderIndex\"],\n",
        "                        outputCols=[\"genderEncoded\"])\n",
        "encoded = encoder.fit(indexed).transform(indexed)\n",
        "encoded.show()"
      ],
      "metadata": {
        "id": "aFH1rY96K0yU"
      },
      "execution_count": null,
      "outputs": []
    },
    {
      "cell_type": "markdown",
      "source": [
        "untuk `color_encoded` ada 5 nilai : blue, black, red, green, yellow. Sehingga hasil one-hot encodingnya ada 4 kolom\n",
        "- `[0,0,0,0]` sparse vector : `[4,[],[]]`\n",
        "- `[1,0,0,0]` sparse vector : `[4,[0],[1]]`\n",
        "- `[0,1,0,0]` sparse vector : `[4,[1],[1]]`\n",
        "- `[0,0,1,0]` sparse vector : `[4,[2],[1]]`\n",
        "- `[0,0,0,1]` sparse vector : `[4,[3],[1]]`\n"
      ],
      "metadata": {
        "id": "LpEZ3YwS3FDz"
      }
    },
    {
      "cell_type": "code",
      "metadata": {
        "id": "z-IcXMsiczEq"
      },
      "source": [
        "df = spark.createDataFrame( [(\"Female\", \"Blue\", 300, 0.0, 0),\n",
        "                             (\"Female\", \"Black\", 200, 15.1, 1),\n",
        "                             (\"Male\", \"Red\", 100, 12.4, 0),\n",
        "                             (\"Female\", \"Green\", 100, 0.0, 1),\n",
        "                             (\"Female\", \"Blue\", 200, 0.0, 0),\n",
        "                             (\"Male\", \"Green\", 400, 20.0, 1),\n",
        "                              (\"Male\", \"Yellow\", 400, 20.0, 1)],\n",
        "                            [\"gender\", \"color\", \"num1\", \"num2\", \"target\"])\n",
        "\n",
        "df.show()\n",
        "\n",
        "indexer_1 = StringIndexer(inputCol=\"gender\", outputCol=\"genderIndex\")\n",
        "indexed_1 = indexer_1.fit(df).transform(df)\n",
        "#indexed_1.show()\n",
        "\n"
      ],
      "execution_count": null,
      "outputs": []
    },
    {
      "cell_type": "code",
      "source": [
        "indexed_1.show()"
      ],
      "metadata": {
        "id": "I4fkUzn8OdZP"
      },
      "execution_count": null,
      "outputs": []
    },
    {
      "cell_type": "code",
      "source": [
        "indexer_2 = StringIndexer(inputCol=\"color\", outputCol=\"colorIndex\")\n",
        "indexed_2 = indexer_2.fit(indexed_1).transform(indexed_1)\n",
        "indexed_2.show()"
      ],
      "metadata": {
        "id": "CWBA-N1ZOJn8"
      },
      "execution_count": null,
      "outputs": []
    },
    {
      "cell_type": "code",
      "source": [
        "encoder_1 = OneHotEncoder(inputCols=[\"genderIndex\"],\n",
        "                        outputCols=[\"genderEncoded\"])\n",
        "encoded_1 = encoder_1.fit(indexed_2).transform(indexed_2)\n",
        "encoded_1.show()"
      ],
      "metadata": {
        "id": "LVWkikxaOoET"
      },
      "execution_count": null,
      "outputs": []
    },
    {
      "cell_type": "code",
      "source": [
        "encoder_2 = OneHotEncoder(inputCols=[\"colorIndex\"],\n",
        "                        outputCols=[\"colorEncoded\"])\n",
        "encoded_2 = encoder_2.fit(encoded_1).transform(encoded_1)\n",
        "encoded_2.show()"
      ],
      "metadata": {
        "id": "kOmm_M1IPDME"
      },
      "execution_count": null,
      "outputs": []
    },
    {
      "cell_type": "code",
      "metadata": {
        "id": "4YZ873ExwIjj"
      },
      "source": [
        "#Assemble the vectors into 1 features vector, using VectorAssembler transformator\n",
        "assembler = VectorAssembler(\n",
        "    inputCols=[\"genderEncoded\", \"colorEncoded\", \"num1\", \"num2\"],\n",
        "    outputCol=\"features\")\n",
        "\n",
        "output = assembler.transform(encoded_2)\n",
        "output.show(truncate=False)"
      ],
      "execution_count": null,
      "outputs": []
    },
    {
      "cell_type": "code",
      "metadata": {
        "id": "HdZbCidYj3pl"
      },
      "source": [
        "#Create the same process with Pipeline\n",
        "\n",
        "indexer_1 = StringIndexer(inputCol=\"gender\", outputCol=\"genderIndex\")\n",
        "indexer_2 = StringIndexer(inputCol=\"color\", outputCol=\"colorIndex\")\n",
        "indexers = [indexer_1, indexer_2]\n",
        "\n",
        "encoder_1 = OneHotEncoder(inputCols=[\"genderIndex\"], outputCols=[\"genderEncoded\"])\n",
        "encoder_2 = OneHotEncoder(inputCols=[\"colorIndex\"], outputCols=[\"colorEncoded\"])\n",
        "encoders = [encoder_1, encoder_2]\n",
        "\n",
        "assembler = VectorAssembler(inputCols=[\"genderEncoded\", \"colorEncoded\", \"num1\", \"num2\"], outputCol=\"features\")\n",
        "\n",
        "pipeline = Pipeline(stages=indexers + encoders + [assembler])\n",
        "\n",
        "model=pipeline.fit(df)\n",
        "data = model.transform(df)\n",
        "\n",
        "data.show(truncate=False)"
      ],
      "execution_count": null,
      "outputs": []
    },
    {
      "cell_type": "code",
      "source": [],
      "metadata": {
        "id": "vAdNIUhXhgXh"
      },
      "execution_count": null,
      "outputs": []
    }
  ]
}