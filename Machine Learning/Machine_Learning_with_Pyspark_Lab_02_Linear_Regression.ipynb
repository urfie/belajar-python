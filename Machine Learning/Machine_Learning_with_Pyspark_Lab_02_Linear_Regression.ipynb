{
  "nbformat": 4,
  "nbformat_minor": 0,
  "metadata": {
    "colab": {
      "provenance": []
    },
    "kernelspec": {
      "name": "python3",
      "display_name": "Python 3"
    },
    "language_info": {
      "name": "python"
    }
  },
  "cells": [
    {
      "cell_type": "markdown",
      "metadata": {
        "id": "vs_KZwpBgO99"
      },
      "source": [
        "# Linear Regression\n",
        "\n",
        "Kita akan menggunakan dataset yang sama dengan yang digunakan pada Regresi Linear dengan sklearn. Kali ini kita ambil data dari sumber asalnya, yaitu di sini : https://www4.stat.ncsu.edu/~boos/var.select/diabetes.html\n",
        "\n",
        "Data yang kita gunakan adalah data yang sudah dinormalisasi, sama seperti data sample scikit-learn yang kita gunakan sebelumnya."
      ]
    },
    {
      "cell_type": "code",
      "metadata": {
        "colab": {
          "base_uri": "https://localhost:8080/"
        },
        "id": "lV6Diax5M0T8",
        "outputId": "aaee37ff-736c-411d-edb9-7bc9f9130906"
      },
      "source": [
        "# Google colab only\n",
        "!pip install pyspark"
      ],
      "execution_count": 1,
      "outputs": [
        {
          "output_type": "stream",
          "name": "stdout",
          "text": [
            "Collecting pyspark\n",
            "  Downloading pyspark-3.5.0.tar.gz (316.9 MB)\n",
            "\u001b[2K     \u001b[90m━━━━━━━━━━━━━━━━━━━━━━━━━━━━━━━━━━━━━━━━\u001b[0m \u001b[32m316.9/316.9 MB\u001b[0m \u001b[31m2.2 MB/s\u001b[0m eta \u001b[36m0:00:00\u001b[0m\n",
            "\u001b[?25h  Preparing metadata (setup.py) ... \u001b[?25l\u001b[?25hdone\n",
            "Requirement already satisfied: py4j==0.10.9.7 in /usr/local/lib/python3.10/dist-packages (from pyspark) (0.10.9.7)\n",
            "Building wheels for collected packages: pyspark\n",
            "  Building wheel for pyspark (setup.py) ... \u001b[?25l\u001b[?25hdone\n",
            "  Created wheel for pyspark: filename=pyspark-3.5.0-py2.py3-none-any.whl size=317425345 sha256=fbb7717fc1ac943d8fd13189cc248d17d3c13e502be2e12083515f335ef95164\n",
            "  Stored in directory: /root/.cache/pip/wheels/41/4e/10/c2cf2467f71c678cfc8a6b9ac9241e5e44a01940da8fbb17fc\n",
            "Successfully built pyspark\n",
            "Installing collected packages: pyspark\n",
            "Successfully installed pyspark-3.5.0\n"
          ]
        }
      ]
    },
    {
      "cell_type": "code",
      "metadata": {
        "id": "iO3_dsRRhsqQ"
      },
      "source": [
        "import pyspark"
      ],
      "execution_count": 2,
      "outputs": []
    },
    {
      "cell_type": "code",
      "source": [
        "# Google colab only\n",
        "from pyspark.sql import SparkSession\n",
        "spark = SparkSession.builder.appName('MlLib - Machine Learning').getOrCreate()"
      ],
      "metadata": {
        "id": "bxlGLr16QRVh"
      },
      "execution_count": 3,
      "outputs": []
    },
    {
      "cell_type": "markdown",
      "source": [
        "## Download dataset"
      ],
      "metadata": {
        "id": "uSRvN4K-olgh"
      }
    },
    {
      "cell_type": "code",
      "source": [
        "!wget 'https://www4.stat.ncsu.edu/~boos/var.select/diabetes.rwrite1.txt'"
      ],
      "metadata": {
        "colab": {
          "base_uri": "https://localhost:8080/"
        },
        "id": "NwjE5V-8g8Rx",
        "outputId": "4df3cb10-abf7-4af6-bddc-e95e9d023833"
      },
      "execution_count": 4,
      "outputs": [
        {
          "output_type": "stream",
          "name": "stdout",
          "text": [
            "--2024-02-05 01:17:10--  https://www4.stat.ncsu.edu/~boos/var.select/diabetes.rwrite1.txt\n",
            "Resolving www4.stat.ncsu.edu (www4.stat.ncsu.edu)... 152.1.62.34\n",
            "Connecting to www4.stat.ncsu.edu (www4.stat.ncsu.edu)|152.1.62.34|:443... connected.\n",
            "HTTP request sent, awaiting response... 200 OK\n",
            "Length: 88471 (86K) [text/plain]\n",
            "Saving to: ‘diabetes.rwrite1.txt’\n",
            "\n",
            "diabetes.rwrite1.tx 100%[===================>]  86.40K  --.-KB/s    in 0.07s   \n",
            "\n",
            "2024-02-05 01:17:10 (1.13 MB/s) - ‘diabetes.rwrite1.txt’ saved [88471/88471]\n",
            "\n"
          ]
        }
      ]
    },
    {
      "cell_type": "markdown",
      "source": [
        "## Load Dataset into Dataframe"
      ],
      "metadata": {
        "id": "6FcjHEEZQf0T"
      }
    },
    {
      "cell_type": "code",
      "metadata": {
        "id": "c9Y_VAR3l5xg"
      },
      "source": [
        "df = spark.read.csv(path='diabetes.rwrite1.txt', sep=' ', header = True, inferSchema=True)"
      ],
      "execution_count": 5,
      "outputs": []
    },
    {
      "cell_type": "code",
      "metadata": {
        "id": "PnC8U37CmCS7",
        "colab": {
          "base_uri": "https://localhost:8080/"
        },
        "outputId": "679ed589-5531-4e95-937f-86bced40855a"
      },
      "source": [
        "df.printSchema()"
      ],
      "execution_count": 6,
      "outputs": [
        {
          "output_type": "stream",
          "name": "stdout",
          "text": [
            "root\n",
            " |-- age: double (nullable = true)\n",
            " |-- sex: double (nullable = true)\n",
            " |-- bmi: double (nullable = true)\n",
            " |-- map: double (nullable = true)\n",
            " |-- tc: double (nullable = true)\n",
            " |-- ldl: double (nullable = true)\n",
            " |-- hdl: double (nullable = true)\n",
            " |-- tch: double (nullable = true)\n",
            " |-- ltg: double (nullable = true)\n",
            " |-- glu: double (nullable = true)\n",
            " |-- y: integer (nullable = true)\n",
            "\n"
          ]
        }
      ]
    },
    {
      "cell_type": "code",
      "metadata": {
        "id": "WHxlqoqytSf4",
        "colab": {
          "base_uri": "https://localhost:8080/"
        },
        "outputId": "c9311351-7723-4e25-d763-58e4f3b283be"
      },
      "source": [
        "df.show(5)"
      ],
      "execution_count": 7,
      "outputs": [
        {
          "output_type": "stream",
          "name": "stdout",
          "text": [
            "+--------------------+------------------+-------------------+--------------------+--------------------+-------------------+-------------------+--------------------+-------------------+-------------------+---+\n",
            "|                 age|               sex|                bmi|                 map|                  tc|                ldl|                hdl|                 tch|                ltg|                glu|  y|\n",
            "+--------------------+------------------+-------------------+--------------------+--------------------+-------------------+-------------------+--------------------+-------------------+-------------------+---+\n",
            "|  0.0380759064334241|0.0506801187398187| 0.0616962065186885|  0.0218723549949558| -0.0442234984244464|-0.0348207628376986|-0.0434008456520269|-0.00259226199818282| 0.0199084208763183|-0.0176461251598052|151|\n",
            "|-0.00188201652779104|-0.044641636506989|-0.0514740612388061| -0.0263278347173518|-0.00844872411121698| -0.019163339748222| 0.0744115640787594| -0.0394933828740919|-0.0683297436244215|  -0.09220404962683| 75|\n",
            "|  0.0852989062966783|0.0506801187398187| 0.0444512133365941|-0.00567061055493425| -0.0455994512826475|-0.0341944659141195|-0.0323559322397657|-0.00259226199818282|0.00286377051894013|-0.0259303389894746|141|\n",
            "| -0.0890629393522603|-0.044641636506989|-0.0115950145052127| -0.0366564467985606|     0.0121905687618| 0.0249905933641021|-0.0360375700438527|  0.0343088588777263| 0.0226920225667445|-0.0093619113301358|206|\n",
            "| 0.00538306037424807|-0.044641636506989|-0.0363846922044735|  0.0218723549949558| 0.00393485161259318| 0.0155961395104161| 0.0081420836051921|-0.00259226199818282|-0.0319914449413559|-0.0466408735636482|135|\n",
            "+--------------------+------------------+-------------------+--------------------+--------------------+-------------------+-------------------+--------------------+-------------------+-------------------+---+\n",
            "only showing top 5 rows\n",
            "\n"
          ]
        }
      ]
    },
    {
      "cell_type": "code",
      "source": [
        "df.describe().show()"
      ],
      "metadata": {
        "colab": {
          "base_uri": "https://localhost:8080/"
        },
        "id": "VK2UAUSTRPoG",
        "outputId": "1a0074ce-43ee-408b-b4bf-77b50122292e"
      },
      "execution_count": 8,
      "outputs": [
        {
          "output_type": "stream",
          "name": "stdout",
          "text": [
            "+-------+--------------------+--------------------+--------------------+--------------------+--------------------+--------------------+--------------------+--------------------+--------------------+--------------------+------------------+\n",
            "|summary|                 age|                 sex|                 bmi|                 map|                  tc|                 ldl|                 hdl|                 tch|                 ltg|                 glu|                 y|\n",
            "+-------+--------------------+--------------------+--------------------+--------------------+--------------------+--------------------+--------------------+--------------------+--------------------+--------------------+------------------+\n",
            "|  count|                 442|                 442|                 442|                 442|                 442|                 442|                 442|                 442|                 442|                 442|               442|\n",
            "|   mean|-3.64182037970226...|1.308342574551195...|-8.04534920333569...|1.281654521074629...|-8.78507925028616...|1.327024211984792...|-4.57464634298318...|3.777301498233299...|-3.82857788333202...|-3.41288201508140...|152.13348416289594|\n",
            "| stddev| 0.04761904761904938| 0.04761904761904762|  0.0476190476190521| 0.04761904761904804| 0.04761904761904791|0.047619047619047276| 0.04761904761904927|0.047619047619046444| 0.04761904761905067| 0.04761904761905054|  77.0930045329911|\n",
            "|    min|  -0.107225631607358|  -0.044641636506989| -0.0902752958985185|  -0.112399602060758|  -0.126780669916514|  -0.115613065979398|   -0.10230705051742|  -0.076394503750001|  -0.126097385560409|  -0.137767225690012|                25|\n",
            "|    max|   0.110726675453815|  0.0506801187398187|    0.17055522598066|   0.132044217194516|   0.153913713156516|   0.198787989657293|   0.181179060397284|   0.185234443260194|   0.133598980013008|   0.135611830689079|               346|\n",
            "+-------+--------------------+--------------------+--------------------+--------------------+--------------------+--------------------+--------------------+--------------------+--------------------+--------------------+------------------+\n",
            "\n"
          ]
        }
      ]
    },
    {
      "cell_type": "code",
      "metadata": {
        "colab": {
          "base_uri": "https://localhost:8080/"
        },
        "id": "yp3g-Vo0mIFM",
        "outputId": "ec473f9b-354b-49d9-e4bb-08edb4155075"
      },
      "source": [
        "training = df.select([\"age\",\"sex\",\"bmi\",\"map\",\"tc\",\"ldl\",\"hdl\",\"tch\",\"ltg\",\"glu\"])\n",
        "training.show(5)"
      ],
      "execution_count": 9,
      "outputs": [
        {
          "output_type": "stream",
          "name": "stdout",
          "text": [
            "+--------------------+------------------+-------------------+--------------------+--------------------+-------------------+-------------------+--------------------+-------------------+-------------------+\n",
            "|                 age|               sex|                bmi|                 map|                  tc|                ldl|                hdl|                 tch|                ltg|                glu|\n",
            "+--------------------+------------------+-------------------+--------------------+--------------------+-------------------+-------------------+--------------------+-------------------+-------------------+\n",
            "|  0.0380759064334241|0.0506801187398187| 0.0616962065186885|  0.0218723549949558| -0.0442234984244464|-0.0348207628376986|-0.0434008456520269|-0.00259226199818282| 0.0199084208763183|-0.0176461251598052|\n",
            "|-0.00188201652779104|-0.044641636506989|-0.0514740612388061| -0.0263278347173518|-0.00844872411121698| -0.019163339748222| 0.0744115640787594| -0.0394933828740919|-0.0683297436244215|  -0.09220404962683|\n",
            "|  0.0852989062966783|0.0506801187398187| 0.0444512133365941|-0.00567061055493425| -0.0455994512826475|-0.0341944659141195|-0.0323559322397657|-0.00259226199818282|0.00286377051894013|-0.0259303389894746|\n",
            "| -0.0890629393522603|-0.044641636506989|-0.0115950145052127| -0.0366564467985606|     0.0121905687618| 0.0249905933641021|-0.0360375700438527|  0.0343088588777263| 0.0226920225667445|-0.0093619113301358|\n",
            "| 0.00538306037424807|-0.044641636506989|-0.0363846922044735|  0.0218723549949558| 0.00393485161259318| 0.0155961395104161| 0.0081420836051921|-0.00259226199818282|-0.0319914449413559|-0.0466408735636482|\n",
            "+--------------------+------------------+-------------------+--------------------+--------------------+-------------------+-------------------+--------------------+-------------------+-------------------+\n",
            "only showing top 5 rows\n",
            "\n"
          ]
        }
      ]
    },
    {
      "cell_type": "markdown",
      "source": [
        "## Split Training-testing Dataset"
      ],
      "metadata": {
        "id": "HpRUj_3TorUK"
      }
    },
    {
      "cell_type": "markdown",
      "source": [
        "Split data menjadi train-test data, dengan perbandingan 80:20"
      ],
      "metadata": {
        "id": "mrXhqxurxrFY"
      }
    },
    {
      "cell_type": "code",
      "metadata": {
        "id": "asvjq3HlnWSJ"
      },
      "source": [
        "from pyspark.sql.functions import col\n",
        "\n",
        "features = [\"age\",\"sex\",\"bmi\",\"map\",\"tc\",\"ldl\",\"hdl\",\"tch\",\"ltg\",\"glu\"]\n",
        "label = 'y'\n",
        "\n",
        "df_selected = df.select(*features, col(label).alias(\"label\"))\n",
        "(training, test) = df_selected.randomSplit([.8, .2])"
      ],
      "execution_count": 10,
      "outputs": []
    },
    {
      "cell_type": "markdown",
      "source": [
        "Sebelum digunakan dalam proses training, kita satukan dulu kolom-kolom input menjadi satu vektor feature dengan `VectorAssembler`"
      ],
      "metadata": {
        "id": "eeJHSr3g6b-R"
      }
    },
    {
      "cell_type": "code",
      "metadata": {
        "colab": {
          "base_uri": "https://localhost:8080/"
        },
        "id": "H7vNSciqoTNW",
        "outputId": "928852a7-5be6-4564-ca2a-4eff5ec7c7c8"
      },
      "source": [
        "from pyspark.ml.feature import VectorAssembler\n",
        "\n",
        "vectorAssembler = VectorAssembler(inputCols=features, outputCol=\"features\")\n",
        "training = vectorAssembler.transform(training)\n",
        "training.show(5, False)"
      ],
      "execution_count": 11,
      "outputs": [
        {
          "output_type": "stream",
          "name": "stdout",
          "text": [
            "+------------------+------------------+-------------------+-------------------+-------------------+-------------------+-------------------+--------------------+--------------------+-------------------+-----+-------------------------------------------------------------------------------------------------------------------------------------------------------------------------------------------------------+\n",
            "|age               |sex               |bmi                |map                |tc                 |ldl                |hdl                |tch                 |ltg                 |glu                |label|features                                                                                                                                                                                               |\n",
            "+------------------+------------------+-------------------+-------------------+-------------------+-------------------+-------------------+--------------------+--------------------+-------------------+-----+-------------------------------------------------------------------------------------------------------------------------------------------------------------------------------------------------------+\n",
            "|-0.107225631607358|-0.044641636506989|-0.0773415510119477|-0.0263278347173518|-0.0896299427450836|-0.0961978613484469|0.0265502726256275 |-0.076394503750001  |-0.0425721049227942 |-0.0052198044153011|137  |[-0.107225631607358,-0.044641636506989,-0.0773415510119477,-0.0263278347173518,-0.0896299427450836,-0.0961978613484469,0.0265502726256275,-0.076394503750001,-0.0425721049227942,-0.0052198044153011]  |\n",
            "|-0.107225631607358|-0.044641636506989|-0.0342290680567117|-0.067642283042187 |-0.0634868384392622|-0.0705196874817053|0.0081420836051921 |-0.0394933828740919 |-6.09254186102297E-4|-0.0797777288823259|140  |[-0.107225631607358,-0.044641636506989,-0.0342290680567117,-0.067642283042187,-0.0634868384392622,-0.0705196874817053,0.0081420836051921,-0.0394933828740919,-6.09254186102297E-4,-0.0797777288823259] |\n",
            "|-0.103593093156339|-0.044641636506989|-0.0374625042783544|-0.0263278347173518|0.00255889875439205|0.0199802179754696 |0.0118237214092792 |-0.00259226199818282|-0.0683297436244215 |-0.0259303389894746|113  |[-0.103593093156339,-0.044641636506989,-0.0374625042783544,-0.0263278347173518,0.00255889875439205,0.0199802179754696,0.0118237214092792,-0.00259226199818282,-0.0683297436244215,-0.0259303389894746] |\n",
            "|-0.103593093156339|0.0506801187398187|-0.0460850008694016|-0.0263278347173518|-0.0249601584096305|-0.0248000120604336|0.0302319104297145 |-0.0394933828740919 |-0.0398095943643375 |-0.0549250873933176|77   |[-0.103593093156339,0.0506801187398187,-0.0460850008694016,-0.0263278347173518,-0.0249601584096305,-0.0248000120604336,0.0302319104297145,-0.0394933828740919,-0.0398095943643375,-0.0549250873933176] |\n",
            "|-0.103593093156339|0.0506801187398187|-0.0234509473179027|-0.0228849640236156|-0.0868780370286814|-0.0677013513255995|-0.0176293810234174|-0.0394933828740919 |-0.0781409106690696 |-0.0714935150526564|71   |[-0.103593093156339,0.0506801187398187,-0.0234509473179027,-0.0228849640236156,-0.0868780370286814,-0.0677013513255995,-0.0176293810234174,-0.0394933828740919,-0.0781409106690696,-0.0714935150526564]|\n",
            "+------------------+------------------+-------------------+-------------------+-------------------+-------------------+-------------------+--------------------+--------------------+-------------------+-----+-------------------------------------------------------------------------------------------------------------------------------------------------------------------------------------------------------+\n",
            "only showing top 5 rows\n",
            "\n"
          ]
        }
      ]
    },
    {
      "cell_type": "markdown",
      "source": [
        "## Linear Regreesion Model"
      ],
      "metadata": {
        "id": "-hOOqEn0Q6mb"
      }
    },
    {
      "cell_type": "markdown",
      "source": [
        "###Training dan evaluasi"
      ],
      "metadata": {
        "id": "FsBePuBu_guG"
      }
    },
    {
      "cell_type": "code",
      "metadata": {
        "colab": {
          "base_uri": "https://localhost:8080/"
        },
        "id": "vJ0ZJZEdgkQi",
        "outputId": "29bbfac2-15d7-4622-fc97-be685a5af2a8"
      },
      "source": [
        "from pyspark.ml.regression import LinearRegression\n",
        "\n",
        "lr = LinearRegression(maxIter=10, regParam=0.3, elasticNetParam=0.8)\n",
        "\n",
        "# Fit the model\n",
        "lrModel = lr.fit(training)\n",
        "\n",
        "# Print the coefficients and intercept for linear regression\n",
        "print(\"Coefficients: %s\" % str(lrModel.coefficients))\n",
        "print(\"Intercept: %s\" % str(lrModel.intercept))\n",
        "\n",
        "# Summarize the model over the training set and print out some metrics\n",
        "trainingSummary = lrModel.summary\n",
        "print(\"numIterations: %d\" % trainingSummary.totalIterations)\n",
        "print(\"objectiveHistory: %s\" % str(trainingSummary.objectiveHistory))\n",
        "trainingSummary.residuals.show(5)\n",
        "print(\"model RMSE: %f\" % trainingSummary.rootMeanSquaredError)\n",
        "print(\"model r2: %f\" % trainingSummary.r2)\n",
        "print(\"model adjusted r2: %f\" % trainingSummary.r2adj)"
      ],
      "execution_count": 12,
      "outputs": [
        {
          "output_type": "stream",
          "name": "stdout",
          "text": [
            "Coefficients: [29.82528246685948,-229.40354897898578,538.1138576287808,305.28789476303234,-69.53452528966905,-71.31181034165093,-208.56353827214141,62.510422029236075,521.0955402136278,57.55182779041414]\n",
            "Intercept: 153.24931409849182\n",
            "numIterations: 10\n",
            "objectiveHistory: [0.4999999999999998, 0.44412597431837186, 0.27312493098457874, 0.26467695752537634, 0.2456843314638537, 0.2437130195803324, 0.24322522870071053, 0.24302637324958945, 0.24286814832155093, 0.2427862340659139, 0.2427108591349959]\n",
            "+-------------------+\n",
            "|          residuals|\n",
            "+-------------------+\n",
            "|  46.06889601384236|\n",
            "| 18.409586644646197|\n",
            "| 22.125552207646464|\n",
            "|0.47866206737131733|\n",
            "| -15.17120403425099|\n",
            "+-------------------+\n",
            "only showing top 5 rows\n",
            "\n",
            "model RMSE: 54.198802\n",
            "model r2: 0.522600\n",
            "model adjusted r2: 0.508882\n"
          ]
        }
      ]
    },
    {
      "cell_type": "markdown",
      "source": [
        "Dari hasil di atas, terlihat model kita relatif kurang baik dari sisi RMSE (masih di atas 0.5) maupun adjusted R-Squared (masih di bawah 0.75).\n",
        "\n",
        "Akan tetapi angka-angka tersebut hanya merupakan panduan saja. Evaluasi akhir tergantung pada kebutuhan maupun ketersediaan data."
      ],
      "metadata": {
        "id": "RN4o0OTb9Hb8"
      }
    },
    {
      "cell_type": "code",
      "metadata": {
        "colab": {
          "base_uri": "https://localhost:8080/"
        },
        "id": "ZHhN3fvmoxbM",
        "outputId": "d486af54-08c4-4a87-bf28-b7c4b9766c9c"
      },
      "source": [
        "#prediction\n",
        "test1 = vectorAssembler.transform(test)\n",
        "predictions = lrModel.transform(test1)\n",
        "\n",
        "# Select example rows to display.\n",
        "print(\"\\nModel Prediction Result :  \")\n",
        "predictions.select(\"features\",\"label\",\"prediction\").show(5)"
      ],
      "execution_count": 13,
      "outputs": [
        {
          "output_type": "stream",
          "name": "stdout",
          "text": [
            "\n",
            "Model Prediction Result :  \n",
            "+--------------------+-----+------------------+\n",
            "|            features|label|        prediction|\n",
            "+--------------------+-----+------------------+\n",
            "|[-0.1072256316073...|  200| 140.7687722319818|\n",
            "|[-0.0963280162542...|  134| 71.95205664353476|\n",
            "|[-0.0890629393522...|  206|161.72064031461935|\n",
            "|[-0.0781653239992...|  152|106.40661072541582|\n",
            "|[-0.0745327855481...|  103| 141.0961971201562|\n",
            "+--------------------+-----+------------------+\n",
            "only showing top 5 rows\n",
            "\n"
          ]
        }
      ]
    },
    {
      "cell_type": "code",
      "metadata": {
        "colab": {
          "base_uri": "https://localhost:8080/"
        },
        "id": "dFO9l67OpI1p",
        "outputId": "59ce99bc-db9e-4191-8c51-76127586c8d6"
      },
      "source": [
        "from pyspark.ml.evaluation import RegressionEvaluator\n",
        "\n",
        "# Select (prediction, true label) dan hitung error\n",
        "evaluator1 = RegressionEvaluator(labelCol=\"label\",\n",
        "                                predictionCol=\"prediction\",\n",
        "                                metricName=\"rmse\")\n",
        "rmse1 = evaluator1.evaluate(predictions)\n",
        "print(\"Root Mean Squared Error (RMSE) on test data = %g\" % rmse1)\n",
        "\n",
        "evaluator2 = RegressionEvaluator(labelCol=\"label\",\n",
        "                                predictionCol=\"prediction\",\n",
        "                                metricName=\"r2\")\n",
        "r21 = evaluator2.evaluate(predictions)\n",
        "print(\"R-Squared on test data = %g\" % r21)\n",
        "\n"
      ],
      "execution_count": 14,
      "outputs": [
        {
          "output_type": "stream",
          "name": "stdout",
          "text": [
            "Root Mean Squared Error (RMSE) on test data = 51.6539\n",
            "R-Squared on test data = 0.461699\n"
          ]
        }
      ]
    },
    {
      "cell_type": "markdown",
      "source": [
        "##Visualisasi actual vs. predicted"
      ],
      "metadata": {
        "id": "jRZXeSyL7X3S"
      }
    },
    {
      "cell_type": "markdown",
      "source": [
        "Hati-hati untuk data yang sangat besar, karena perintah `collect()` akan mengumpulkan seluruh hasil operasi dataframe dari seluruh eksekutor node."
      ],
      "metadata": {
        "id": "iUz0GtGUFTPx"
      }
    },
    {
      "cell_type": "code",
      "source": [
        "import matplotlib.pyplot as plt\n",
        "\n",
        "\n",
        "ytest=predictions.select(\"label\").collect()\n",
        "diabetes_y_pred=predictions.select(\"prediction\").collect()\n",
        "\n",
        "plt.scatter(ytest, diabetes_y_pred, color=\"black\")\n",
        "plt.plot([50,350], [50,350], color=\"blue\", linewidth=2)\n",
        "\n",
        "plt.xlabel('Actual')\n",
        "plt.ylabel('Predicted')\n",
        "\n",
        "plt.show()"
      ],
      "metadata": {
        "colab": {
          "base_uri": "https://localhost:8080/",
          "height": 449
        },
        "id": "zl7imVa0-C6z",
        "outputId": "881dbd3b-0c07-4a85-a003-960e3a463a8a"
      },
      "execution_count": 15,
      "outputs": [
        {
          "output_type": "display_data",
          "data": {
            "text/plain": [
              "<Figure size 640x480 with 1 Axes>"
            ],
            "image/png": "[encoded data removed]"
          },
          "metadata": {}
        }
      ]
    },
    {
      "cell_type": "markdown",
      "source": [
        "Idealnya actual vs. predicted mendekati garis biru (x=y).\n",
        "\n",
        "Dari plot hasil prediksi kita, terlihat bahwa meskipun polanya sudah mengikuti, namun penyimpangan hasil prediksi masih relatif besar.\n",
        "\n",
        "Pada nilai aktual kecil (sekitar <=150), hasil prediksi lebih banyak melebihi nilai aktualnya, sedangkan pada nilai aktual besar, prediksi model kebanyakan kurang dari hasil aktualnya."
      ],
      "metadata": {
        "id": "AaXt-1G7EBWt"
      }
    }
  ]
}