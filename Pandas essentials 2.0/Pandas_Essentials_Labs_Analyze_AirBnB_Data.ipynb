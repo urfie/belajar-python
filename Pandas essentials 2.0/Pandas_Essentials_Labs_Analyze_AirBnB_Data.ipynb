{
  "nbformat": 4,
  "nbformat_minor": 0,
  "metadata": {
    "colab": {
      "provenance": [],
      "toc_visible": true
    },
    "kernelspec": {
      "name": "python3",
      "display_name": "Python 3"
    },
    "language_info": {
      "name": "python"
    }
  },
  "cells": [
    {
      "cell_type": "markdown",
      "source": [],
      "metadata": {
        "id": "NP7JFFlRMFxh"
      }
    },
    {
      "cell_type": "markdown",
      "source": [
        "#Lab 02 - DataFrame Basics\n",
        "\n",
        "Untuk rangkaian latihan ini kita akan mengolah dan menganalisis data AirBnB New York. Data didapatkan dari link ini (https://www.kaggle.com/dgomonov/data-exploration-on-nyc-airbnb) dengan beberapa penyesuaian.\n",
        "\n",
        "Dalam Lab 02 ini kita akan melakukan loading file csv, kemudian melakukan eksplorasi data untuk melihat langkah data cleansing apa yang perlu dilakukan.\n",
        "\n",
        "Beberapa hal yang perlu diperhatikan:\n",
        "\n",
        "1. Adakah kolom yang tidak diperlukan, yang bisa dihapus?\n",
        "2. Adakah data yang hilang/null? Apa yang harus kita lakukan terhadapnya?\n",
        "3. Apakah ada data duplikat, dan apa yang harus dilakukan untuk mengolahnya?"
      ],
      "metadata": {
        "id": "1wRvpgB8nO6P"
      }
    },
    {
      "cell_type": "markdown",
      "source": [
        "Langkah pengolahan dataset\n",
        "- Loading csv file\n",
        "- Quick check\n",
        "- Akses dengan berbagai metode\n",
        "\n",
        "Berikut ini beberapa pertanyaan untuk latihan :\n",
        "1. Ada berapa row dan berapa kolom data yang di-load?\n",
        "2. Apa saja nama kolomnya?\n",
        "3. Tampilkan data dari baris ke 11 sampai ke 20\n",
        "4. Tampilkan data dari kolom ke 3 sampai ke 6\n",
        "5. Berapa nilai rata-rata, maksimum dan minimum untuk kolom2 tertentu?\n",
        "\n"
      ],
      "metadata": {
        "id": "-Lya_0InpPVr"
      }
    },
    {
      "cell_type": "code",
      "execution_count": null,
      "metadata": {
        "id": "pmiBJRnmmLUD"
      },
      "outputs": [],
      "source": [
        "import pandas as pd\n",
        "import numpy as np\n",
        "import matplotlib.pyplot as plt\n",
        "import seaborn as sns"
      ]
    },
    {
      "cell_type": "markdown",
      "source": [
        "Loading data dari file csv."
      ],
      "metadata": {
        "id": "1S8xJGU0A2ih"
      }
    },
    {
      "cell_type": "code",
      "source": [
        "filename = 'https://raw.githubusercontent.com/urfie/DataAnalytics/main/airbnb_nyc_toclean.csv'\n",
        "df = pd.read_csv(filename)\n",
        "df.head()"
      ],
      "metadata": {
        "id": "rkYRTMx8znQ0"
      },
      "execution_count": null,
      "outputs": []
    },
    {
      "cell_type": "markdown",
      "source": [
        "Melakukan *Quick Checking* untuk melihat sekilas profil dataset."
      ],
      "metadata": {
        "id": "Qdxf52en9QX5"
      }
    },
    {
      "cell_type": "code",
      "source": [
        "#show data shape\n",
        "df.shape"
      ],
      "metadata": {
        "id": "wdPVpBc1hpZR"
      },
      "execution_count": null,
      "outputs": []
    },
    {
      "cell_type": "code",
      "source": [
        "#show dataframe columns\n",
        "df.columns"
      ],
      "metadata": {
        "id": "iyLeyD8JNG4C"
      },
      "execution_count": null,
      "outputs": []
    },
    {
      "cell_type": "code",
      "source": [
        "#show dataframe info\n",
        "df.info()"
      ],
      "metadata": {
        "id": "HKAfdNF92tDB"
      },
      "execution_count": null,
      "outputs": []
    },
    {
      "cell_type": "code",
      "source": [
        "#basic statistics\n",
        "df.describe()"
      ],
      "metadata": {
        "id": "xoBz6KGO2u1w"
      },
      "execution_count": null,
      "outputs": []
    },
    {
      "cell_type": "markdown",
      "source": [
        "#Lab 03 - Handling Missing & Duplicates\n",
        "\n",
        "Dalam lab ini kita akan melakukan eksplorasi dan pengolahan data terkait missing dan duplicate. Langkah yang akan kita lakukan :\n",
        "- Check missing values\n",
        "- Check duplicate values\n",
        "- Check unique values\n",
        "\n",
        "\n",
        "Berikut ini beberapa pertanyaan untuk latihan :\n",
        "1. Ada berapa data yang null untuk masing-masing kolom?\n",
        "2. Adakah data duplikat (row yang persis sama)?\n",
        "3. Adakah kolom  yang tidak boleh duplikat?\n",
        "4. Berapa jumlah unique value untuk kolom room_type, neighbourhood, dan availability_365 ?\n",
        "5. Apa yang perlu dilakukan untuk kasus-kasus di atas?\n"
      ],
      "metadata": {
        "id": "GQL5HKkP45lD"
      }
    },
    {
      "cell_type": "markdown",
      "source": [
        "##Missing Values"
      ],
      "metadata": {
        "id": "98onOq4az5dQ"
      }
    },
    {
      "cell_type": "code",
      "source": [
        "#show how many null values for each columns\n",
        "df.isna().sum()"
      ],
      "metadata": {
        "id": "l8nWjFqE0Kaa"
      },
      "execution_count": null,
      "outputs": []
    },
    {
      "cell_type": "code",
      "source": [
        "#Clean missing value\n",
        "#filling with 0\n",
        "df['reviews_per_month'].fillna(0, inplace=True)"
      ],
      "metadata": {
        "id": "s_xA5As_fykd"
      },
      "execution_count": null,
      "outputs": []
    },
    {
      "cell_type": "code",
      "source": [
        "#drop rows with missing neighbourhood, long, or lat column\n",
        "df.dropna(subset=['neighbourhood','longitude','latitude'], how='any', inplace=True)"
      ],
      "metadata": {
        "id": "tFHpd9qs1_ZV"
      },
      "execution_count": null,
      "outputs": []
    },
    {
      "cell_type": "markdown",
      "source": [
        "##Duplicate Values"
      ],
      "metadata": {
        "id": "PzJJ08Vfz9_n"
      }
    },
    {
      "cell_type": "code",
      "source": [
        "#Check duplicate rows\n",
        "df.loc[df.duplicated(keep=False)]"
      ],
      "metadata": {
        "id": "XEmYBoGYWWL0"
      },
      "execution_count": null,
      "outputs": []
    },
    {
      "cell_type": "code",
      "source": [
        "#Drop duplicate rows\n",
        "df_unique=df.drop_duplicates()\n",
        "df_unique.shape"
      ],
      "metadata": {
        "id": "OsYsuI9vXi0o"
      },
      "execution_count": null,
      "outputs": []
    },
    {
      "cell_type": "code",
      "source": [
        "#"
      ],
      "metadata": {
        "id": "Mr4A1zVG18Ul"
      },
      "execution_count": null,
      "outputs": []
    },
    {
      "cell_type": "markdown",
      "source": [
        "##Unique Value"
      ],
      "metadata": {
        "id": "e3KKUPQu0MLY"
      }
    },
    {
      "cell_type": "code",
      "source": [
        "#let's explore some columns to see unique values\n",
        "print(\"\\nRoom type : \", df['room_type'].unique())\n",
        "print(\"\\nMinimum night : \", df['minimum_nights'].unique())\n",
        "print(\"\\nNeigbourhood : \", df[\"neighbourhood\"].unique())"
      ],
      "metadata": {
        "id": "rzVMJFJhACmR"
      },
      "execution_count": null,
      "outputs": []
    },
    {
      "cell_type": "code",
      "source": [
        "#perform some cleansing\n",
        "#1. missing values\n",
        "#2. duplicate values"
      ],
      "metadata": {
        "id": "ibM-h6wUiRm1"
      },
      "execution_count": null,
      "outputs": []
    },
    {
      "cell_type": "markdown",
      "source": [
        "#Lab 04 - More Cleansing and Resolving\n",
        "\n",
        "Selanjutnya kita unggah file referensi, dan akan kita gunakan kolom `neighbourhood` untuk mendapatkan informasi `neighbourhood_group` dari data referensi.\n"
      ],
      "metadata": {
        "id": "vlzf4maM9Xbe"
      }
    },
    {
      "cell_type": "markdown",
      "source": [
        "Skenario untuk pengolahan dataframe\n",
        "1. Load reference\n",
        "2. Quick check, rename nama kolom\n",
        "3. Join\n",
        "4. Cek hasil dan menangani data yang tidak ditemukan\n",
        "\n",
        "Beberapa pertanyaan untuk latihan :\n",
        "1. Berapa baris hasil join data a dan data b?\n",
        "2. Ada berapa yang tidak ketemu hasil combine-nya?\n",
        "3. Apa value kolom col1 untuk row tertentu? (hasil combine)\n",
        "\n"
      ],
      "metadata": {
        "id": "Oj3csQw9phiT"
      }
    },
    {
      "cell_type": "code",
      "source": [
        "ref_file = 'https://raw.githubusercontent.com/urfie/DataAnalytics/main/ref_neighbourhood.csv'\n",
        "df_ref = pd.read_csv(ref_file)"
      ],
      "metadata": {
        "id": "r2HRhCv7QKTr"
      },
      "execution_count": null,
      "outputs": []
    },
    {
      "cell_type": "markdown",
      "source": [
        "Lakukan quick check terhadap data yang di-load"
      ],
      "metadata": {
        "id": "laVS0dTJ9w6t"
      }
    },
    {
      "cell_type": "code",
      "source": [
        "df_ref.shape"
      ],
      "metadata": {
        "id": "_1NuPzeoXBhp"
      },
      "execution_count": null,
      "outputs": []
    },
    {
      "cell_type": "code",
      "source": [
        "df_ref.columns"
      ],
      "metadata": {
        "id": "kPmN5mCj1fea"
      },
      "execution_count": null,
      "outputs": []
    },
    {
      "cell_type": "code",
      "source": [
        "df_ref.head()"
      ],
      "metadata": {
        "id": "nXqwPcVs1jHG"
      },
      "execution_count": null,
      "outputs": []
    },
    {
      "cell_type": "markdown",
      "source": [
        "Join the dataframes"
      ],
      "metadata": {
        "id": "kz6HnhhT92vU"
      }
    },
    {
      "cell_type": "code",
      "source": [
        "airbnb = pd.merge(df_unique, df_ref, on='neighbourhood', how='left')"
      ],
      "metadata": {
        "id": "6vO7eHdWXD0m"
      },
      "execution_count": null,
      "outputs": []
    },
    {
      "cell_type": "code",
      "source": [
        "airbnb.shape"
      ],
      "metadata": {
        "id": "CIrs8zH-XW8M"
      },
      "execution_count": null,
      "outputs": []
    },
    {
      "cell_type": "code",
      "source": [
        "#show how many null values for each columns\n",
        "airbnb.isna().sum()"
      ],
      "metadata": {
        "id": "7MwezkuyGebE"
      },
      "execution_count": null,
      "outputs": []
    },
    {
      "cell_type": "markdown",
      "source": [
        "Tampilkan nilai kolom `neighbourhood` dari record-record yang tidak ditemukan di data referensi."
      ],
      "metadata": {
        "id": "50LygXfucgIO"
      }
    },
    {
      "cell_type": "code",
      "source": [
        "#show the 'neighbourhood' column for unresolved data\n",
        "airbnb.loc[airbnb.neighbourhood_group.isna(),'neighbourhood']"
      ],
      "metadata": {
        "id": "DLx9FURz1z4y"
      },
      "execution_count": null,
      "outputs": []
    },
    {
      "cell_type": "markdown",
      "source": [
        "Apa yang harus dilakukan dengan data tersebut?\n",
        "- standarisasi data : trim & lower\n",
        "- kedua hal tersebut perlu dilakukan terhadap dataset maupun referensinya"
      ],
      "metadata": {
        "id": "8fsufJzFQzdP"
      }
    },
    {
      "cell_type": "code",
      "source": [
        "#trim and change to lowercase - reference data\n",
        "\n",
        "\n"
      ],
      "metadata": {
        "id": "LeSxGUhDROs7"
      },
      "execution_count": null,
      "outputs": []
    },
    {
      "cell_type": "code",
      "source": [
        "#trim and change to lowercase - dataset"
      ],
      "metadata": {
        "id": "vYdlLGBDg5pZ"
      },
      "execution_count": null,
      "outputs": []
    },
    {
      "cell_type": "markdown",
      "source": [
        "Join ulang dan cek hasilnya"
      ],
      "metadata": {
        "id": "SQvufpBVB2-g"
      }
    },
    {
      "cell_type": "code",
      "source": [
        "#Join ulang\n",
        "\n"
      ],
      "metadata": {
        "id": "B8VG56q7B00q"
      },
      "execution_count": null,
      "outputs": []
    },
    {
      "cell_type": "code",
      "source": [
        "#Check unmatched\n",
        "\n"
      ],
      "metadata": {
        "id": "ozjpLaNPg9Fw"
      },
      "execution_count": null,
      "outputs": []
    },
    {
      "cell_type": "markdown",
      "source": [
        "#Lab 05 - Analyze & Visualize\n",
        "\n",
        "Aggregation and Visualization\n",
        "\n",
        "- Grouping dan Agregat\n",
        "- Visualisasikan\n"
      ],
      "metadata": {
        "id": "s6648RL1nXpx"
      }
    },
    {
      "cell_type": "markdown",
      "source": [
        "##Analisis : grouping & Agregasi\n",
        "\n",
        "Beberapa pertanyaan yang akan kita jawab :\n",
        "- Ada berapa neighbourhood group?\n",
        "- Ada berapa listing dalam tiap neighbourhood group?\n",
        "- Berapa rata2 availability, maksimum review perbulan, mayoritas minimum night, harga maksimum untuk tiap neighbourhood group?\n",
        "- Ada berapa room type? Berapa jumlah listing untuk masing2 room type dalam tiap2 neighbourhood group?\n",
        "- Berapa rata2 availability, maksimum review perbulan, mayoritas minimum night, harga maksimum untuk masing2 room type dalam tiap neighbourhood group?\n"
      ],
      "metadata": {
        "id": "rnF0ONDTJnVt"
      }
    },
    {
      "cell_type": "code",
      "source": [
        "#Jumlah neighbourhood group\n",
        "airbnb['neighbourhood_group'].unique()"
      ],
      "metadata": {
        "id": "cfj-st8TohWk"
      },
      "execution_count": null,
      "outputs": []
    },
    {
      "cell_type": "code",
      "source": [
        "#Rata2 availability untuk tiap neighbourhood group\n",
        "grouped = airbnb.groupby([\"neighbourhood_group\"])\n",
        "grouped.agg(\n",
        "    avg_availability=('availability_365','mean')\n",
        "   )#.reset_index()"
      ],
      "metadata": {
        "id": "f8qsjvuBYFpO"
      },
      "execution_count": null,
      "outputs": []
    },
    {
      "cell_type": "code",
      "source": [
        "#Maksimum review-per-bulan, mayoritas minimum night, harga maksimum untuk tiap neighbourhood group\n",
        "grouped.agg(\n",
        "    max_reviews=('reviews_per_month','max')\n",
        "   )#.reset_index()"
      ],
      "metadata": {
        "id": "bUOtYP2-fblC"
      },
      "execution_count": null,
      "outputs": []
    },
    {
      "cell_type": "code",
      "source": [
        "#Jumlah room type\n",
        "df['room_type'].unique()"
      ],
      "metadata": {
        "id": "EZ95gVXFKYe7"
      },
      "execution_count": null,
      "outputs": []
    },
    {
      "cell_type": "code",
      "source": [
        "#Rata2 availability untuk tiap room type & neighbourhood group\n",
        "\n"
      ],
      "metadata": {
        "id": "bLUKyi2vYJnW"
      },
      "execution_count": null,
      "outputs": []
    },
    {
      "cell_type": "code",
      "source": [
        "#Maksimum review-per-bulan, mayoritas minimum night, harga maksimum untuk tiap room type & neighbourhood group\n",
        "\n",
        "\n"
      ],
      "metadata": {
        "id": "stA1RkhemKM6"
      },
      "execution_count": null,
      "outputs": []
    },
    {
      "cell_type": "markdown",
      "source": [
        "##Visualisasi\n",
        "\n",
        "- Jumlah host per room type\n",
        "- Jumlah host per neighbourhood group\n",
        "- Rata2, minimum, maksimum availability per room type\n",
        "- Rata2, minimum, maksimum availability per neighbourhood group\n"
      ],
      "metadata": {
        "id": "vcujQgHxM8tN"
      }
    },
    {
      "cell_type": "code",
      "source": [
        "#Jumlah host per room type\n",
        "plt.figure(figsize=(5,5))\n",
        "sns.countplot(x=airbnb['room_type'])"
      ],
      "metadata": {
        "id": "yXyftmHXNiFt"
      },
      "execution_count": null,
      "outputs": []
    },
    {
      "cell_type": "code",
      "source": [
        "#Rata2, minimum, maksimum availability per room type\n",
        "plt.figure(figsize=(6,6))\n",
        "sns.boxplot(data=airbnb, x='room_type',y='availability_365')"
      ],
      "metadata": {
        "id": "iQb5wig7QSZ_"
      },
      "execution_count": null,
      "outputs": []
    },
    {
      "cell_type": "code",
      "source": [
        "#Jumlah host per neighbourhood group\n"
      ],
      "metadata": {
        "id": "a4qdbdP4RJ8g"
      },
      "execution_count": null,
      "outputs": []
    },
    {
      "cell_type": "code",
      "source": [
        "#Rata2, minimum, maksimum availability per neighbourhood_group\n",
        "\n"
      ],
      "metadata": {
        "id": "LkAiYuBBRXRA"
      },
      "execution_count": null,
      "outputs": []
    },
    {
      "cell_type": "markdown",
      "source": [
        "#Miscellaneous"
      ],
      "metadata": {
        "id": "AWtI3KOHlbAZ"
      }
    },
    {
      "cell_type": "markdown",
      "source": [
        "##Menyimpan ke file\n",
        "\n",
        "Menyimpan dataframe ke dalam file dilakukan dengan perintah `DataFrame.to_`*formatfile*\n",
        "\n",
        "\n",
        "Misalnya, untuk menyimpan file ke format JSON, dapat dilakukan dengan `df.to_json(namafile)`"
      ],
      "metadata": {
        "id": "WD1yRBqMlFn5"
      }
    },
    {
      "cell_type": "code",
      "source": [
        "airbnb.head().to_json('json_val.json', orient='values') #other option : columns, records, split, index"
      ],
      "metadata": {
        "id": "6TsilEOKcYC8"
      },
      "execution_count": null,
      "outputs": []
    },
    {
      "cell_type": "markdown",
      "source": [
        "##Package praktis untuk EDA\n",
        "\n",
        "Beberapa package praktis untuk melakukan EDA dengan Pandas"
      ],
      "metadata": {
        "id": "TNMaNfHpbUYU"
      }
    },
    {
      "cell_type": "markdown",
      "source": [
        "###Pandas Profiling\n"
      ],
      "metadata": {
        "id": "18z5gQU-mMwB"
      }
    },
    {
      "cell_type": "code",
      "source": [
        "!pip install pandas-profiling==3.1.0"
      ],
      "metadata": {
        "id": "EVhPXl1RZBrA"
      },
      "execution_count": null,
      "outputs": []
    },
    {
      "cell_type": "code",
      "source": [],
      "metadata": {
        "id": "yKFffOAPbaUW"
      },
      "execution_count": null,
      "outputs": []
    },
    {
      "cell_type": "code",
      "source": [
        "from pandas_profiling import ProfileReport"
      ],
      "metadata": {
        "id": "VylrtZhZYWYN"
      },
      "execution_count": null,
      "outputs": []
    },
    {
      "cell_type": "code",
      "source": [
        "profile = ProfileReport(df)"
      ],
      "metadata": {
        "id": "7wBP5-84Yf8m"
      },
      "execution_count": null,
      "outputs": []
    },
    {
      "cell_type": "code",
      "source": [
        "profile"
      ],
      "metadata": {
        "id": "r5CfNq4GY0LV"
      },
      "execution_count": null,
      "outputs": []
    },
    {
      "cell_type": "markdown",
      "source": [
        "###Sweetviz"
      ],
      "metadata": {
        "id": "EQK4B2-ubcwA"
      }
    },
    {
      "cell_type": "code",
      "source": [
        "import sweetviz as sv\n",
        "\n",
        "my_report = sv.analyze(df)\n",
        "my_report.show_html()"
      ],
      "metadata": {
        "id": "kdXAlFVEbbVP"
      },
      "execution_count": null,
      "outputs": []
    }
  ]
}