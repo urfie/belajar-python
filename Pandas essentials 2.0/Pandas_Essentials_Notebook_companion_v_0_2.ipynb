{
  "nbformat": 4,
  "nbformat_minor": 0,
  "metadata": {
    "colab": {
      "provenance": [],
      "toc_visible": true
    },
    "kernelspec": {
      "name": "python3",
      "display_name": "Python 3"
    },
    "language_info": {
      "name": "python"
    }
  },
  "cells": [
    {
      "cell_type": "markdown",
      "source": [
        "Notebook companion for _**\"Pandas Essentials\"**_ modul"
      ],
      "metadata": {
        "id": "jsh2MsNZITGR"
      }
    },
    {
      "cell_type": "code",
      "execution_count": null,
      "metadata": {
        "id": "AutNuxe-gv2-"
      },
      "outputs": [],
      "source": [
        "#import packages\n",
        "import pandas as pd\n",
        "import numpy as np\n",
        "import matplotlib.pyplot as plt\n",
        "import seaborn as sns"
      ]
    },
    {
      "cell_type": "markdown",
      "source": [
        "#Series"
      ],
      "metadata": {
        "id": "Hf9HzKysg8MD"
      }
    },
    {
      "cell_type": "markdown",
      "source": [
        "##Creating Series"
      ],
      "metadata": {
        "id": "rhsttxa1fYwR"
      }
    },
    {
      "cell_type": "code",
      "source": [
        "#Empty Series\n",
        "s = pd.Series(name = \"Empty Series\")\n",
        "s"
      ],
      "metadata": {
        "id": "Esic2FWrg7Jl"
      },
      "execution_count": null,
      "outputs": []
    },
    {
      "cell_type": "code",
      "source": [
        "#Create from Dictionary\n",
        "d = {\"apples\": 10, \"bananas\": 20, \"cherry\": 50}\n",
        "s = pd.Series(d, name=\"Fruit Series\")\n",
        "s"
      ],
      "metadata": {
        "id": "9rQ9yS0NhVkK"
      },
      "execution_count": null,
      "outputs": []
    },
    {
      "cell_type": "code",
      "source": [
        "#Create from file\n",
        "filename = 'https://raw.githubusercontent.com/urfie/DataAnalytics/main/fruits_data.csv'\n",
        "fs = pd.read_csv(filename, squeeze=True, index_col=0)\n",
        "fs"
      ],
      "metadata": {
        "id": "6batRPIFhDIY"
      },
      "execution_count": null,
      "outputs": []
    },
    {
      "cell_type": "markdown",
      "source": [
        "##Series Operations"
      ],
      "metadata": {
        "id": "8JELo5BxfdNQ"
      }
    },
    {
      "cell_type": "code",
      "source": [
        "fs['cherry']+=5           #updating an item\n",
        "fs"
      ],
      "metadata": {
        "id": "UV2vr9-aynHu"
      },
      "execution_count": null,
      "outputs": []
    },
    {
      "cell_type": "code",
      "source": [
        "'grape' in fs      #check membership"
      ],
      "metadata": {
        "id": "BZjFTogwIBoB"
      },
      "execution_count": null,
      "outputs": []
    },
    {
      "cell_type": "code",
      "source": [
        "fs/10              #math operation"
      ],
      "metadata": {
        "id": "h7XSGUqBIMUD"
      },
      "execution_count": null,
      "outputs": []
    },
    {
      "cell_type": "code",
      "source": [
        "max(fs)            #max, min, avg"
      ],
      "metadata": {
        "id": "A7JD8kLaISuL"
      },
      "execution_count": null,
      "outputs": []
    },
    {
      "cell_type": "markdown",
      "source": [
        "##Operation between Series"
      ],
      "metadata": {
        "id": "OUZqFACyIcT8"
      }
    },
    {
      "cell_type": "code",
      "source": [
        "qty = pd.Series({\"apple\":10, \"banana\":20, \"cherry\":50})\n",
        "qty"
      ],
      "metadata": {
        "id": "7ciJ2lY_y43D"
      },
      "execution_count": null,
      "outputs": []
    },
    {
      "cell_type": "code",
      "source": [
        "price = pd.Series({\"apple\":100, \"banana\":120, \"cherry\":500})\n",
        "price"
      ],
      "metadata": {
        "id": "kGgw_gptIogT"
      },
      "execution_count": null,
      "outputs": []
    },
    {
      "cell_type": "code",
      "source": [
        "qty*price"
      ],
      "metadata": {
        "id": "ZzNF_h_3IqlP"
      },
      "execution_count": null,
      "outputs": []
    },
    {
      "cell_type": "markdown",
      "source": [
        "##Series Access"
      ],
      "metadata": {
        "id": "z_9WaY1x0-J6"
      }
    },
    {
      "cell_type": "code",
      "source": [
        "f = {\"apple\": 10, \"banana\": 20, \"cherry\": 50, \"pear\": 30}\n",
        "fs = pd.Series(f)\n",
        "fs"
      ],
      "metadata": {
        "id": "MR47qYSQ1_w0"
      },
      "execution_count": null,
      "outputs": []
    },
    {
      "cell_type": "markdown",
      "source": [
        "###Access single item"
      ],
      "metadata": {
        "id": "uIkqwH-x2I13"
      }
    },
    {
      "cell_type": "markdown",
      "source": [
        "loc vs iloc"
      ],
      "metadata": {
        "id": "o8uM-bmxHCbT"
      }
    },
    {
      "cell_type": "code",
      "source": [
        "fs.loc[\"apple\"]"
      ],
      "metadata": {
        "id": "iR84IVLX2JBI"
      },
      "execution_count": null,
      "outputs": []
    },
    {
      "cell_type": "code",
      "source": [
        "fs.iloc[0]"
      ],
      "metadata": {
        "id": "5RcAu0Rt2Oi4"
      },
      "execution_count": null,
      "outputs": []
    },
    {
      "cell_type": "markdown",
      "source": [
        "array access"
      ],
      "metadata": {
        "id": "WIH0ajllHKUi"
      }
    },
    {
      "cell_type": "code",
      "source": [
        "fs[0]"
      ],
      "metadata": {
        "id": "8e6M1bE242hE"
      },
      "execution_count": null,
      "outputs": []
    },
    {
      "cell_type": "code",
      "source": [
        "fs[\"apple\"]"
      ],
      "metadata": {
        "id": "4YoEfQfa45FP"
      },
      "execution_count": null,
      "outputs": []
    },
    {
      "cell_type": "markdown",
      "source": [
        "###Slicing Series"
      ],
      "metadata": {
        "id": "yN9d_y6h2WoJ"
      }
    },
    {
      "cell_type": "markdown",
      "source": [
        "loc vs iloc"
      ],
      "metadata": {
        "id": "FCf3yxQvHWpG"
      }
    },
    {
      "cell_type": "code",
      "source": [
        "fs.loc[\"banana\":\"cherry\"]"
      ],
      "metadata": {
        "id": "0fvg6C_N6vuL"
      },
      "execution_count": null,
      "outputs": []
    },
    {
      "cell_type": "code",
      "source": [
        "fs.iloc[1:2]"
      ],
      "metadata": {
        "id": "Lo_Xaigs60L_"
      },
      "execution_count": null,
      "outputs": []
    },
    {
      "cell_type": "markdown",
      "source": [
        "array access"
      ],
      "metadata": {
        "id": "QXsbIDCqHYYx"
      }
    },
    {
      "cell_type": "code",
      "source": [
        "fs[\"banana\":\"cherry\"]"
      ],
      "metadata": {
        "id": "xn0RB9DD9ELp"
      },
      "execution_count": null,
      "outputs": []
    },
    {
      "cell_type": "code",
      "source": [
        "fs[1:2]"
      ],
      "metadata": {
        "id": "q1d4YJCu9BvV"
      },
      "execution_count": null,
      "outputs": []
    },
    {
      "cell_type": "markdown",
      "source": [
        "#DataFrame"
      ],
      "metadata": {
        "id": "tZpgI4s31W16"
      }
    },
    {
      "cell_type": "markdown",
      "source": [
        "##Creating DataFrame"
      ],
      "metadata": {
        "id": "7Zs1l_bPfgiU"
      }
    },
    {
      "cell_type": "code",
      "source": [
        "#empty dataframe\n",
        "s = pd.DataFrame()\n",
        "s"
      ],
      "metadata": {
        "id": "W83qSDDo1TNZ"
      },
      "execution_count": null,
      "outputs": []
    },
    {
      "cell_type": "code",
      "source": [
        "#create from dictionary\n",
        "f = {'name':[\"apple\",\"banana\",\"cherry\",\"pear\"],\n",
        "     'quantity':[10, 20, 50, 30],\n",
        "     'price':[1000,500,750,900]}\n",
        "\n",
        "pd.DataFrame(f)"
      ],
      "metadata": {
        "id": "YU3lY-MGR9xl"
      },
      "execution_count": null,
      "outputs": []
    },
    {
      "cell_type": "code",
      "source": [
        "#create from dictionary of Series\n",
        "s1 = pd.Series({\"apple\":10,\"banana\":20, \"cherry\":50,\"pear\":30})\n",
        "s2 = pd.Series({\"apple\":1000,\"banana\":500, \"cherry\":750,\"pear\":900})\n",
        "pd.DataFrame({\"price\":s1,\"quantity\":s2})"
      ],
      "metadata": {
        "id": "9MseAhfXSK8f"
      },
      "execution_count": null,
      "outputs": []
    },
    {
      "cell_type": "code",
      "source": [
        "#Loading from file\n",
        "filename = 'https://raw.githubusercontent.com/urfie/DataAnalytics/main/fruits_data.csv'\n",
        "df = pd.read_csv(filename)\n",
        "df"
      ],
      "metadata": {
        "id": "H7I9n60ESVvi"
      },
      "execution_count": null,
      "outputs": []
    },
    {
      "cell_type": "markdown",
      "source": [
        "##Quick Checking"
      ],
      "metadata": {
        "id": "rpeksgmCEG0U"
      }
    },
    {
      "cell_type": "code",
      "source": [
        "#DataFrame quick checking methods and attributes\n",
        "\n",
        "f = {'name':[\"apple\",\"banana\",\"cherry\",\"pear\"],\n",
        "     'quantity':[10, 20, 50, None],\n",
        "     'price':[1000,500,750,900]}\n",
        "df = pd.DataFrame(f, index=[5,6,7,8])\n",
        "df"
      ],
      "metadata": {
        "id": "FD5X_YMjyrQI"
      },
      "execution_count": null,
      "outputs": []
    },
    {
      "cell_type": "code",
      "source": [
        "#Get the first 10 rows : df.head()\n",
        "df.head()"
      ],
      "metadata": {
        "id": "bq0mMPfhI23R"
      },
      "execution_count": null,
      "outputs": []
    },
    {
      "cell_type": "code",
      "source": [
        "#Get the last 10 rows : df.tail()\n",
        "df.tail()"
      ],
      "metadata": {
        "id": "iHEeJhWOI6pD"
      },
      "execution_count": null,
      "outputs": []
    },
    {
      "cell_type": "code",
      "source": [
        "#Show dataframe info : df.info()\n",
        "df.info()"
      ],
      "metadata": {
        "id": "bdPyGImJI8cI"
      },
      "execution_count": null,
      "outputs": []
    },
    {
      "cell_type": "code",
      "source": [
        "#Show dataframe shape : df.shape\n",
        "df.shape"
      ],
      "metadata": {
        "id": "kRffwmccI-cG"
      },
      "execution_count": null,
      "outputs": []
    },
    {
      "cell_type": "code",
      "source": [
        "#Get dataframe columns : df.columns\n",
        "df.columns"
      ],
      "metadata": {
        "id": "zcGT8ipWJAWM"
      },
      "execution_count": null,
      "outputs": []
    },
    {
      "cell_type": "markdown",
      "source": [
        "###Descriptive Statistics"
      ],
      "metadata": {
        "id": "URTiNfG7PN58"
      }
    },
    {
      "cell_type": "code",
      "source": [
        "print(df)\n",
        "print(\"\\nRow count :\\n\",df.count())\n",
        "print(\"\\nAverage of quantity :\", df['quantity'].mean())\n",
        "print(\"\\nMin of price :\", df['price'].min())\n",
        "print(\"\\nMax of name :\", df['name'].max())"
      ],
      "metadata": {
        "id": "xJS8ZWW-PQrV"
      },
      "execution_count": null,
      "outputs": []
    },
    {
      "cell_type": "code",
      "source": [
        "#summary statistics\n",
        "df.describe()"
      ],
      "metadata": {
        "id": "gm8U-rMSzM-C"
      },
      "execution_count": null,
      "outputs": []
    },
    {
      "cell_type": "code",
      "source": [
        "df.describe().transpose() #for a better reading"
      ],
      "metadata": {
        "id": "sNZVuZ-DbsHY"
      },
      "execution_count": null,
      "outputs": []
    },
    {
      "cell_type": "markdown",
      "source": [
        "##Accessing DataFrame"
      ],
      "metadata": {
        "id": "3DWo4zkQfnTh"
      }
    },
    {
      "cell_type": "markdown",
      "source": [
        "Akses DataFrame dapat menggunakan `df.loc[]`, `df.iloc[]`, serta `df[]`\n",
        "\n",
        "Sintaksnya adalah :\n",
        "\n",
        "* menggunakan loc :  `df.loc[<row indexer>, <column indexer>]`\n",
        "* menggunakan iloc :  `df.iloc[<row location>, <column location>]`\n",
        "\n",
        "\n"
      ],
      "metadata": {
        "id": "DIbf08gnbZFv"
      }
    },
    {
      "cell_type": "code",
      "source": [
        "f1 = {\n",
        "    'price':[120,100,150,170,200,150,150,100],\n",
        "    'quantity':[10,15,30,25,5,10,20,30],\n",
        "    'color':['green','yellow','red','purple','orange','green','yellow','red']\n",
        "}\n",
        "name = [ 'apple','banana','cherry','grape','mango','pear','pear','strawberry']\n",
        "\n",
        "df1 = pd.DataFrame(f1, index = name)\n",
        "df1"
      ],
      "metadata": {
        "id": "rrAEuhv0S4vr"
      },
      "execution_count": null,
      "outputs": []
    },
    {
      "cell_type": "markdown",
      "source": [
        "###Single element"
      ],
      "metadata": {
        "id": "yrDPTqaf6SkV"
      }
    },
    {
      "cell_type": "code",
      "source": [
        "#loc [single label, single column]\n",
        "df1.loc['pear','price']"
      ],
      "metadata": {
        "id": "_Gjd2cfJRves"
      },
      "execution_count": null,
      "outputs": []
    },
    {
      "cell_type": "code",
      "source": [
        "#loc [single integer, single integer]\n",
        "df1.iloc[5,0]"
      ],
      "metadata": {
        "id": "Xb7rf1ddp4rs"
      },
      "execution_count": null,
      "outputs": []
    },
    {
      "cell_type": "markdown",
      "source": [
        "###Slicing"
      ],
      "metadata": {
        "id": "fVdWvxF46YEA"
      }
    },
    {
      "cell_type": "code",
      "source": [
        "#loc [slice of labels, slice of columns]\n",
        "df1.loc['cherry':'pear','price':'quantity']"
      ],
      "metadata": {
        "id": "9DPSKiHcpqZo"
      },
      "execution_count": null,
      "outputs": []
    },
    {
      "cell_type": "code",
      "source": [
        "#iloc [slice of rows location, slice of columns location]\n",
        "df1.iloc[2:6,0:1]"
      ],
      "metadata": {
        "id": "tsT4vrAFqIy6"
      },
      "execution_count": null,
      "outputs": []
    },
    {
      "cell_type": "markdown",
      "source": [
        "###Using list"
      ],
      "metadata": {
        "id": "UYMlSgYJ6aZE"
      }
    },
    {
      "cell_type": "code",
      "source": [
        "#loc [list of labels, list of columns]\n",
        "df1.loc[['apple','pear'],['color','price']]"
      ],
      "metadata": {
        "id": "fR-qSA4bqSM8"
      },
      "execution_count": null,
      "outputs": []
    },
    {
      "cell_type": "code",
      "source": [
        "#iloc [list of row locations, list of column locations]\n",
        "df1.iloc[[0,5,6],[2,0]]"
      ],
      "metadata": {
        "id": "hKhjS5d4qdOi"
      },
      "execution_count": null,
      "outputs": []
    },
    {
      "cell_type": "markdown",
      "source": [
        "###Boolean"
      ],
      "metadata": {
        "id": "FvWXqVS96c98"
      }
    },
    {
      "cell_type": "code",
      "source": [
        "#loc [list of booleans]\n",
        "df1.loc[[True,False,True,True,False,False,True,False],[False,False,True]]"
      ],
      "metadata": {
        "id": "e2Ihlz5pq_0E"
      },
      "execution_count": null,
      "outputs": []
    },
    {
      "cell_type": "code",
      "source": [
        "#iloc [list of booleans]\n",
        "df1.iloc[[True,False,True,True,False,False,True,False],[False,False,True]]"
      ],
      "metadata": {
        "id": "CUbqIfX7rz6f"
      },
      "execution_count": null,
      "outputs": []
    },
    {
      "cell_type": "markdown",
      "source": [
        "##Filtering (select by conditions)"
      ],
      "metadata": {
        "id": "vuRQHy5GJ12X"
      }
    },
    {
      "cell_type": "markdown",
      "source": [
        "Kita dapat memilih baris berdasarkan kondisi berdasarkan nilai kolom menggunakan df[] atau df.loc[]\n"
      ],
      "metadata": {
        "id": "rRhOxg6H6-Ep"
      }
    },
    {
      "cell_type": "code",
      "metadata": {
        "id": "eem4jokXY0Vq"
      },
      "source": [
        "df1[df1['quantity'] > 20]     #filtering/select rows"
      ],
      "execution_count": null,
      "outputs": []
    },
    {
      "cell_type": "markdown",
      "source": [
        "Gunakan operator boolean `&` (and) `|` (or) untuk menggabungkan beberapa kondisi\n"
      ],
      "metadata": {
        "id": "wuRitNcW7A7k"
      }
    },
    {
      "cell_type": "code",
      "metadata": {
        "id": "1KuS-RYvY2J0"
      },
      "source": [
        "df1.loc[(df1.color == 'green') | (df1.price > 150)] #filter by multiple condition"
      ],
      "execution_count": null,
      "outputs": []
    },
    {
      "cell_type": "code",
      "metadata": {
        "id": "LMSrh2IEbYAD"
      },
      "source": [
        "df1[(df1.price > 150) & (df1.price < 200)] #filter by multiple condition"
      ],
      "execution_count": null,
      "outputs": []
    },
    {
      "cell_type": "markdown",
      "source": [
        "##Select using list"
      ],
      "metadata": {
        "id": "o1sw7dsB7HwH"
      }
    },
    {
      "cell_type": "markdown",
      "source": [
        "Kita juga dapat memilih berdasarkan daftar nilai dengan menggunakan fungsi isin(list of value) ."
      ],
      "metadata": {
        "id": "CSfmSgq-7M3h"
      }
    },
    {
      "cell_type": "code",
      "source": [
        "df1['color'].isin(['green','yellow'])"
      ],
      "metadata": {
        "id": "lMfy8Xou7G9N"
      },
      "execution_count": null,
      "outputs": []
    },
    {
      "cell_type": "code",
      "source": [
        "df1.loc[df1['color'].isin(['green','yellow'])]"
      ],
      "metadata": {
        "id": "e07AkdUh714a"
      },
      "execution_count": null,
      "outputs": []
    },
    {
      "cell_type": "code",
      "source": [
        "#list + condition\n",
        "df1.loc[df1['color'].isin(['green','yellow']) \\\n",
        "        | (df1['quantity'] < 10)]"
      ],
      "metadata": {
        "id": "RZAV6p_a8D05"
      },
      "execution_count": null,
      "outputs": []
    },
    {
      "cell_type": "markdown",
      "source": [
        "##Missing Values"
      ],
      "metadata": {
        "id": "uRbCOukrcN_c"
      }
    },
    {
      "cell_type": "markdown",
      "source": [
        "Default untuk missing value atau Null di Pandas adalah NaN, tetapi null dapat juga berupa None (null Python)"
      ],
      "metadata": {
        "id": "O97HVeF87XL3"
      }
    },
    {
      "cell_type": "code",
      "source": [
        "df = pd.DataFrame({\n",
        "    'name': ['apple', 'apple', 'pear', 'pear', 'banana','banana'],\n",
        "    'color': ['red', 'green', np.nan, 'yellow', 'yellow',None],\n",
        "    'qty': [4, 4, 5, 15, 15,np.nan]\n",
        "    })\n",
        "df"
      ],
      "metadata": {
        "id": "iu7CfY5UcP6X"
      },
      "execution_count": null,
      "outputs": []
    },
    {
      "cell_type": "markdown",
      "source": [
        "Untuk memeriksa apakah suatu elemen null, gunakan `isna()`, `isnull()`, `notnull()`, atau `notna()`\n"
      ],
      "metadata": {
        "id": "yC0Xx-43Z432"
      }
    },
    {
      "cell_type": "code",
      "source": [
        "#check null value\n",
        "print(\"\\nFind null values : df.isna() \")\n",
        "print(df.isna())\n",
        "\n",
        "print(\"\\nFind non-null values : df.notna()\")\n",
        "print(df.notna())\n",
        "\n",
        "print(\"\\nFind null values in a column : df.color.isna()\")\n",
        "print(df.color.isna())\n",
        "\n",
        "print(\"\\nShow the number of null values in each column : df.isna().sum()\")\n",
        "print(df.isna().sum())"
      ],
      "metadata": {
        "id": "huwkmXuT3wa1"
      },
      "execution_count": null,
      "outputs": []
    },
    {
      "cell_type": "markdown",
      "source": [
        "Filtering berdasar null value"
      ],
      "metadata": {
        "id": "J3fS0QaxaeQ5"
      }
    },
    {
      "cell_type": "code",
      "source": [
        "#filter rows with null/notnull value\n",
        "print(\"Show rows where color is NULL\")\n",
        "print(df[df.color.isna()])\n",
        "\n",
        "print(\"\\nShow rows where color is not NULL\")\n",
        "print(df[df.color.notna()])\n",
        "\n",
        "print(\"\\nShow rows where color is NULL\")\n",
        "print(df[df.color.isnull()])\n",
        "\n",
        "print(\"\\nShow rows where color is not NULL\")\n",
        "print(df[df.color.notnull()])"
      ],
      "metadata": {
        "id": "WEHT7iUT1UM5"
      },
      "execution_count": null,
      "outputs": []
    },
    {
      "cell_type": "markdown",
      "source": [
        "Untuk mengisi value null, gunakan `fillna()`"
      ],
      "metadata": {
        "id": "wuFGV2vOaMXZ"
      }
    },
    {
      "cell_type": "code",
      "source": [
        "#fill missing value with a default value\n",
        "df.fillna(value=0)"
      ],
      "metadata": {
        "id": "_FHb8LHW1lAO"
      },
      "execution_count": null,
      "outputs": []
    },
    {
      "cell_type": "code",
      "source": [
        "#fill missing value with other method\n",
        "print(\"Fill null with the previous value\")\n",
        "print(df.fillna(method='bfill'))\n",
        "\n",
        "print(\"\\nFill null with the next value\")\n",
        "print(df.fillna(method='ffill'))"
      ],
      "metadata": {
        "id": "AO0aUxje4pBu"
      },
      "execution_count": null,
      "outputs": []
    },
    {
      "cell_type": "markdown",
      "source": [
        "Untuk menghapus data yang mengandung missing value, gunakan `dropna()`"
      ],
      "metadata": {
        "id": "U5K2xL_XaSZf"
      }
    },
    {
      "cell_type": "code",
      "source": [
        "#drop rows with missing value\n",
        "print(\"Drop row when any column is null\")\n",
        "print(df.dropna())\n",
        "\n",
        "print(\"\\nDrop row when all columns are null\")\n",
        "print(df.dropna(how='all'))\n",
        "\n",
        "print(\"\\nDrop row with minimal number of non null columns\")\n",
        "print(df.dropna(thresh=2))\n",
        "\n",
        "print(\"\\nDrop row with subset columns\")\n",
        "print(df.dropna(subset=['name','qty']))\n"
      ],
      "metadata": {
        "id": "V34uXlGs5Qho"
      },
      "execution_count": null,
      "outputs": []
    },
    {
      "cell_type": "markdown",
      "source": [
        "##Updating DataFrame"
      ],
      "metadata": {
        "id": "I4LrwTh_IGK3"
      }
    },
    {
      "cell_type": "markdown",
      "source": [
        "###Adding new rows"
      ],
      "metadata": {
        "id": "XQuhL1ZRRLfi"
      }
    },
    {
      "cell_type": "code",
      "source": [
        "df = pd.DataFrame({\n",
        "    'name': ['apple', 'apple', 'pear', 'pear', 'banana','banana'],\n",
        "    'color': ['red', 'green', 'green', 'yellow', 'yellow','yellow'],\n",
        "    'qty': [4, 4, 5, 15, 15,13]\n",
        "    })\n",
        "df"
      ],
      "metadata": {
        "id": "2oEnvryXRNeW"
      },
      "execution_count": null,
      "outputs": []
    },
    {
      "cell_type": "markdown",
      "source": [
        "Untuk menambahkan baris baru, kita bisa langsung meng-assign sebuah dictionary ke lokasi indeks yang baru"
      ],
      "metadata": {
        "id": "OiqQPqGS7r3M"
      }
    },
    {
      "cell_type": "code",
      "source": [
        "#adding new rows assigning dictionary to new location\n",
        "\n",
        "fnew = {'name': 'mango',\n",
        "        'qty':10,\n",
        "        'color':'orange'}\n",
        "df.loc[6] = fnew\n",
        "df\n"
      ],
      "metadata": {
        "id": "4F7gzdwQRUKO"
      },
      "execution_count": null,
      "outputs": []
    },
    {
      "cell_type": "markdown",
      "source": [
        "Menggunakan fungsi `pandas.concat(list of dataframes)`"
      ],
      "metadata": {
        "id": "AzZz30737ukT"
      }
    },
    {
      "cell_type": "code",
      "source": [
        "#adding new row using append\n",
        "\n",
        "fnew = {'name': 'mango',\n",
        "        'qty':20,\n",
        "        'color':'green'}\n",
        "dfnew = pd.DataFrame(fnew, index =[7])\n",
        "pd.concat([df,dfnew])"
      ],
      "metadata": {
        "id": "l8ga-93YRQww"
      },
      "execution_count": null,
      "outputs": []
    },
    {
      "cell_type": "markdown",
      "source": [
        "Assignment ke indeks baru mengupdate DataFrame langsung (in place), sedangkan concat mengembalikan dataframe baru"
      ],
      "metadata": {
        "id": "oPzQkQWu-RKB"
      }
    },
    {
      "cell_type": "markdown",
      "source": [
        "###Delete Rows"
      ],
      "metadata": {
        "id": "eK0kCV4b77Df"
      }
    },
    {
      "cell_type": "code",
      "source": [
        "#Drop rows by index\n",
        "df.drop([0,3])"
      ],
      "metadata": {
        "id": "Me0PzZnq780P"
      },
      "execution_count": null,
      "outputs": []
    },
    {
      "cell_type": "code",
      "source": [
        "#Drop rows by conditions\n",
        "df.drop(df[df['qty'] == 15].index)"
      ],
      "metadata": {
        "id": "AWFSPcj68BrJ"
      },
      "execution_count": null,
      "outputs": []
    },
    {
      "cell_type": "code",
      "source": [
        "#Note that the dataframe is unchanged\n",
        "print(df)"
      ],
      "metadata": {
        "id": "YiZByeJO8Meb"
      },
      "execution_count": null,
      "outputs": []
    },
    {
      "cell_type": "markdown",
      "source": [
        "###Adding new columns"
      ],
      "metadata": {
        "id": "lZGBGprfI70c"
      }
    },
    {
      "cell_type": "code",
      "source": [
        "#adding new column\n",
        "df = pd.DataFrame({\n",
        "    'name': ['apple', 'apple', 'pear', 'pear', 'banana','banana'],\n",
        "    'color': ['red', 'green', 'green', 'yellow', 'yellow','yellow'],\n",
        "    'qty': [4, 4, 5, 15, 15,13]\n",
        "    })\n",
        "rack_id = [10,11,10,12,10,9]\n",
        "df"
      ],
      "metadata": {
        "id": "4sxm9kz0ILkv"
      },
      "execution_count": null,
      "outputs": []
    },
    {
      "cell_type": "code",
      "source": [
        "df['rack_id'] = rack_id #with assignment\n",
        "df"
      ],
      "metadata": {
        "id": "TS-QpTKRO6XF"
      },
      "execution_count": null,
      "outputs": []
    },
    {
      "cell_type": "code",
      "source": [
        "df.insert(2, 'rack_id_dup', rack_id) #with insert, must specify location\n",
        "df"
      ],
      "metadata": {
        "id": "ZoJAjmqfO9dO"
      },
      "execution_count": null,
      "outputs": []
    },
    {
      "cell_type": "markdown",
      "source": [
        "Duplikasi nama kolom"
      ],
      "metadata": {
        "id": "oBe7R_iu9AvC"
      }
    },
    {
      "cell_type": "code",
      "source": [
        "df.insert(2, 'rack_id', rack_id,allow_duplicates=True) #with insert, must specify location\n",
        "df"
      ],
      "metadata": {
        "id": "JhM2sGnw8buj"
      },
      "execution_count": null,
      "outputs": []
    },
    {
      "cell_type": "markdown",
      "source": [
        "###Delete columns"
      ],
      "metadata": {
        "id": "94viMm8pJAfz"
      }
    },
    {
      "cell_type": "markdown",
      "source": [
        "Menghapus kolom dilakukan menggunakan fungsi `df.drop()` dengan parameter `axis = 1` atau menggunakan parameter `columns`"
      ],
      "metadata": {
        "id": "svVjPNCB-WLA"
      }
    },
    {
      "cell_type": "code",
      "source": [
        "#Drop columns by setting axis=1\n",
        "df.drop(['rack_id', 'qty'], axis=1)"
      ],
      "metadata": {
        "id": "i2ZPazDvGxJp"
      },
      "execution_count": null,
      "outputs": []
    },
    {
      "cell_type": "code",
      "source": [
        "#Drop columns by setting columns parameter\n",
        "df.drop(columns=['rack_id', 'qty'])"
      ],
      "metadata": {
        "id": "Zq9w_OjR88fc"
      },
      "execution_count": null,
      "outputs": []
    },
    {
      "cell_type": "code",
      "source": [
        "df"
      ],
      "metadata": {
        "id": "_OEhxtFE9JWh"
      },
      "execution_count": null,
      "outputs": []
    },
    {
      "cell_type": "code",
      "source": [
        "#Drop columns with inplace=True\n",
        "df.drop(columns=['rack_id_dup'], inplace=True)\n",
        "df"
      ],
      "metadata": {
        "id": "Nymd0_Kj9MSZ"
      },
      "execution_count": null,
      "outputs": []
    },
    {
      "cell_type": "markdown",
      "source": [
        "###Rename columns"
      ],
      "metadata": {
        "id": "22uGGIfqJVcC"
      }
    },
    {
      "cell_type": "markdown",
      "source": [
        "Mengubah nama kolom dilakukan menggunakan fungsi df.rename()"
      ],
      "metadata": {
        "id": "jWFbHqRY-dsT"
      }
    },
    {
      "cell_type": "code",
      "source": [
        "df.rename(columns={\"rack_id\": \"rack\", \"qty\": \"quantity\"})"
      ],
      "metadata": {
        "id": "gqm5u644JXQ_"
      },
      "execution_count": null,
      "outputs": []
    },
    {
      "cell_type": "code",
      "source": [
        "colnames=['nama','warna','no_rack','id_rack','jumlah']\n",
        "df.columns=colnames\n",
        "df"
      ],
      "metadata": {
        "id": "eeOY96gAKGQD"
      },
      "execution_count": null,
      "outputs": []
    },
    {
      "cell_type": "markdown",
      "source": [
        "##Working with Strings\n",
        "\n",
        "\n"
      ],
      "metadata": {
        "id": "DhKaRS-aIgN4"
      }
    },
    {
      "cell_type": "code",
      "source": [
        "df = pd.DataFrame({\n",
        "    'name': ['Apple', 'Apple ', 'pear', 'pear', 'Banana','banana'],\n",
        "    'color': ['red', 'green', 'green', 'yellow', 'yellow','yellow'],\n",
        "    'qty': [4, 4, 5, 15, 15,13]\n",
        "    })\n",
        "df"
      ],
      "metadata": {
        "id": "X8sveAyNIiib"
      },
      "execution_count": null,
      "outputs": []
    },
    {
      "cell_type": "markdown",
      "source": [
        "Secara default, strings dalam Pandas dideteksi sebagai object\n",
        "Untuk mengakses sebuah kolom  sebagai string, gunakan Series.str\n",
        "Misalnya untuk mengubah nilai string sebuah kolom menjadi lowercase :` df['column_name'].str.lower()`"
      ],
      "metadata": {
        "id": "sMhMZPJj_6tI"
      }
    },
    {
      "cell_type": "code",
      "source": [
        "df['name'].str.lower()"
      ],
      "metadata": {
        "id": "UEeeZHH_NmDB"
      },
      "execution_count": null,
      "outputs": []
    },
    {
      "cell_type": "code",
      "source": [
        "df['name'].str.lower().str.strip()"
      ],
      "metadata": {
        "id": "l8DJijh-K_bS"
      },
      "execution_count": null,
      "outputs": []
    },
    {
      "cell_type": "code",
      "source": [
        "df[df['name'].str.contains('e')]"
      ],
      "metadata": {
        "id": "SSSptMZ0K6wB"
      },
      "execution_count": null,
      "outputs": []
    },
    {
      "cell_type": "code",
      "source": [
        "df['a-letter'] = df['name'].str.count('a')\n",
        "df"
      ],
      "metadata": {
        "id": "u5WkX44wLvg9"
      },
      "execution_count": null,
      "outputs": []
    },
    {
      "cell_type": "markdown",
      "source": [
        "##Duplicate & Unique values"
      ],
      "metadata": {
        "id": "zag7xGAPp-6J"
      }
    },
    {
      "cell_type": "code",
      "source": [
        "#check duplication\n",
        "df = pd.DataFrame({\n",
        "    'name': ['apple', 'apple', 'pear', 'pear', 'banana','banana'],\n",
        "    'color': ['red', 'green', 'green', 'yellow', 'yellow','yellow'],\n",
        "    'qty': [4, 4, 5, 15, 15,13]\n",
        "    })\n",
        "print(\"Duplicate by considering all columns (exact row duplicate)\")\n",
        "print(df.duplicated())\n",
        "print(\"\\nDuplicate by considering only subsets of columns\")\n",
        "print(df.duplicated(subset=['name','color']))"
      ],
      "metadata": {
        "id": "DMFKC7hFWOdA"
      },
      "execution_count": null,
      "outputs": []
    },
    {
      "cell_type": "code",
      "source": [
        "#Show the duplicated rows only\n",
        "print(\"Duplicate by considering all columns (exact row duplicate)\")\n",
        "print(df.loc[df.duplicated()])\n",
        "\n",
        "print(\"\\nDuplicate by considering only subsets of columns, show all\")\n",
        "print(df.loc[df.duplicated(subset=['name','color'], keep=False)])"
      ],
      "metadata": {
        "id": "LHscwJ2jWCnQ"
      },
      "execution_count": null,
      "outputs": []
    },
    {
      "cell_type": "code",
      "source": [
        "#drop duplicates\n",
        "print(\"Drop exact row duplicates\")\n",
        "print(df.drop_duplicates())\n",
        "\n",
        "print(\"\\nDrop duplicate by considering only subsets of columns, keeping the last one\")\n",
        "print(df.drop_duplicates(subset=['name','color'], keep='last'))"
      ],
      "metadata": {
        "id": "a6-5dJUJmWLx"
      },
      "execution_count": null,
      "outputs": []
    },
    {
      "cell_type": "code",
      "source": [
        "#show unique value of a column\n",
        "print(\"Unique value of column 'color'\")\n",
        "print(df['color'].unique())\n",
        "\n",
        "print(\"\\nNumber of unique value of column 'color'\")\n",
        "print(df['color'].nunique())\n",
        "\n",
        "#show unique value of multiple columns\n",
        "print(\"\\nUnique value of combined columns 'name' and 'color'\")\n",
        "print(df[['name','color']].drop_duplicates())"
      ],
      "metadata": {
        "id": "n9VSUWW3lz5k"
      },
      "execution_count": null,
      "outputs": []
    },
    {
      "cell_type": "markdown",
      "source": [
        "##Combining DataFrames"
      ],
      "metadata": {
        "id": "4rVmcGr0IzEG"
      }
    },
    {
      "cell_type": "markdown",
      "source": [
        "Menggabungkan 2 DataFrame by kolom (join) dilakukan dengan fungsi pd.merge()\n",
        "Secara default, join yang dilakukan adalah inner join. Untuk memilih jenis join yang lain, gunakan parameter `how` : ***left, right, outer***"
      ],
      "metadata": {
        "id": "KkWE19mnCbUZ"
      }
    },
    {
      "cell_type": "code",
      "source": [
        "df = pd.DataFrame({'name':[\"apple\", \"banana\", \"cherry\", \"lemon\", \"pear\", \"strawberry\"],\n",
        "                   'qty':[10, 20, 30, 40, 50, 10]})\n",
        "colors = pd.DataFrame({'name':[\"apple\", \"banana\", \"cherry\", \"pear\", \"strawberry\", \"apple\"],\n",
        "                       'color':['red', 'yellow', 'red', 'green', 'red', 'green']})\n",
        "\n",
        "pd.merge(df, colors, on='name')"
      ],
      "metadata": {
        "id": "7jk6WzUEI1gx"
      },
      "execution_count": null,
      "outputs": []
    },
    {
      "cell_type": "code",
      "source": [
        "pd.merge(df, colors, on='name', how='outer')"
      ],
      "metadata": {
        "id": "VFU3TfUqTvXs"
      },
      "execution_count": null,
      "outputs": []
    },
    {
      "cell_type": "markdown",
      "source": [
        "##Grouping and Aggregation"
      ],
      "metadata": {
        "id": "YUU0hnGUvZbI"
      }
    },
    {
      "cell_type": "markdown",
      "source": [
        "###Aggregate"
      ],
      "metadata": {
        "id": "M-o6NWCH1_NX"
      }
    },
    {
      "cell_type": "markdown",
      "source": [
        "Fungsi agregasi dalam pandas adalah DataFrame.aggregate() or DataFrame.agg()\n"
      ],
      "metadata": {
        "id": "4nAYL6s_ESSo"
      }
    },
    {
      "cell_type": "code",
      "source": [
        "df = pd.DataFrame({\n",
        "    'name': ['apple', 'apple', 'apple', 'pear', 'pear', 'banana','banana'],\n",
        "    'color': ['red', 'green', 'green', 'green', 'yellow', 'yellow','yellow'],\n",
        "    'qty': [4, 4, 5, 6, 15, 15,13.0],\n",
        "    'price': [10, 10, 15, 20, 25, 15, 15.0]\n",
        "    })\n",
        "\n",
        "df\n"
      ],
      "metadata": {
        "id": "HWBeDnS4vcIM"
      },
      "execution_count": null,
      "outputs": []
    },
    {
      "cell_type": "markdown",
      "source": [
        "####single function\n",
        "\n",
        "Agregasi menggunakan parameter satu fungsi menghasilkan Series\n"
      ],
      "metadata": {
        "id": "SchikX6RDD2e"
      }
    },
    {
      "cell_type": "code",
      "source": [
        "df[['qty','price']].agg(np.sum)"
      ],
      "metadata": {
        "id": "DiluuHKmC8F6"
      },
      "execution_count": null,
      "outputs": []
    },
    {
      "cell_type": "code",
      "source": [
        "df[['qty','price']].agg(\"sum\")"
      ],
      "metadata": {
        "id": "xe0q5FRyDAEW"
      },
      "execution_count": null,
      "outputs": []
    },
    {
      "cell_type": "markdown",
      "source": [
        "####multiple functions\n",
        "\n",
        "Agregasi menggunakan parameter list of function(s) menghasilkan DataFrame\n"
      ],
      "metadata": {
        "id": "QfMBJsI2DJNc"
      }
    },
    {
      "cell_type": "code",
      "source": [
        "df[['qty','price']].agg([\"sum\",\"mean\"])"
      ],
      "metadata": {
        "id": "aTLYvcNLwK36"
      },
      "execution_count": null,
      "outputs": []
    },
    {
      "cell_type": "code",
      "source": [
        "df[['qty','price']].agg([\"sum\"])"
      ],
      "metadata": {
        "id": "9aSOzSfUDPPq"
      },
      "execution_count": null,
      "outputs": []
    },
    {
      "cell_type": "markdown",
      "source": [
        "###Grouping DataFrame"
      ],
      "metadata": {
        "id": "37ZN44Dj2BbA"
      }
    },
    {
      "cell_type": "markdown",
      "source": [
        "Pengelompokan data dilakukan dengan fungsi DataFrame.groupby()\n",
        "\n",
        "Kita dapat menggunakan parameter berupa single column/index atau multiple columns/indexes dalam list\n",
        "\n",
        "Fungsi groupby mengembalikan GroupBy object, yaitu sekumpulan DataFrame yang dikelompokkan berdasar kriteria tertentu"
      ],
      "metadata": {
        "id": "po4UJFHlFHop"
      }
    },
    {
      "cell_type": "code",
      "source": [
        "#group by single column\n",
        "print(df.groupby(\"color\"))"
      ],
      "metadata": {
        "id": "Zc1rvhmSyG2Z"
      },
      "execution_count": null,
      "outputs": []
    },
    {
      "cell_type": "code",
      "source": [
        "#group by list of column(s)\n",
        "print(df.groupby([\"color\"]))\n",
        "print(df.groupby([\"name\",\"color\"]))"
      ],
      "metadata": {
        "id": "vXIxsWeTFLIF"
      },
      "execution_count": null,
      "outputs": []
    },
    {
      "cell_type": "markdown",
      "source": [
        "Objek GroupBy dapat diiterasi\n"
      ],
      "metadata": {
        "id": "Ee1QBncgFZ1U"
      }
    },
    {
      "cell_type": "code",
      "source": [
        "#iterate on groupby object\n",
        "grouped=df.groupby([\"color\"])\n",
        "for name, group in grouped:\n",
        "   print(name)\n",
        "   print(group)"
      ],
      "metadata": {
        "id": "8q_Jjh7fFOil"
      },
      "execution_count": null,
      "outputs": []
    },
    {
      "cell_type": "markdown",
      "source": [
        "###Aggregate on GroupBy\n",
        "\n",
        "Secara default, kolom yang digunakan untuk pengelompokan akan dijadikan indeks pada DataFrame yang dihasilkan\n",
        "Pengelompokan beberapa kolom akan menghasilkan DataFrame multi-indeks"
      ],
      "metadata": {
        "id": "BwL09RlT2FaN"
      }
    },
    {
      "cell_type": "code",
      "source": [
        "#apply function on groupby object\n",
        "grouped = df.groupby([\"name\"])\n",
        "grouped.mean(['qty','price'])"
      ],
      "metadata": {
        "id": "Dw2uqeLe0vyS"
      },
      "execution_count": null,
      "outputs": []
    },
    {
      "cell_type": "markdown",
      "source": [
        "Untuk mengubahnya, kita dapat mengatur parameter `as_index` pada fungsi groupby menjadi `False`"
      ],
      "metadata": {
        "id": "d4_Q6931GMnI"
      }
    },
    {
      "cell_type": "code",
      "source": [
        "#to get a single indexed result\n",
        "grouped = df.groupby([\"name\"], as_index = False) #don't set the grouped columns as index\n",
        "grouped.agg(\"mean\",['qty','price'])"
      ],
      "metadata": {
        "id": "yjFrUMo02pMg"
      },
      "execution_count": null,
      "outputs": []
    },
    {
      "cell_type": "markdown",
      "source": [
        "Kita juga bisa menggunakan `DataFrame.reset_index()` pada DataFrame hasil agregasi"
      ],
      "metadata": {
        "id": "ke1JFh0dGRNF"
      }
    },
    {
      "cell_type": "code",
      "source": [
        "#another way to get a single indexed result\n",
        "grouped = df.groupby([\"name\"])\n",
        "grouped.agg(\"mean\",['qty','price']).reset_index()"
      ],
      "metadata": {
        "id": "L9JpjWnU3CgI"
      },
      "execution_count": null,
      "outputs": []
    },
    {
      "cell_type": "markdown",
      "source": [
        "Menggunakan dictionary"
      ],
      "metadata": {
        "id": "lzXh5UuxGIe6"
      }
    },
    {
      "cell_type": "code",
      "source": [
        "#apply multiple aggregation function\n",
        "grouped = df.groupby([\"name\"])\n",
        "grouped.agg({\"qty\":[\"mean\",\"sum\",\"max\",\"min\"],\n",
        "            \"price\":[\"median\",\"max\",\"min\"]})#.reset_index()"
      ],
      "metadata": {
        "id": "bHrzA_X64KIE"
      },
      "execution_count": null,
      "outputs": []
    },
    {
      "cell_type": "code",
      "source": [
        "#apply multiple aggregation function\n",
        "grouped = df.groupby([\"name\"])\n",
        "grouped.agg({\"qty\":[\"mean\",\"sum\",\"max\",\"min\"],\n",
        "            \"price\":[\"median\",\"max\",\"min\"]})#.reset_index()"
      ],
      "metadata": {
        "id": "kZZFFzaWH0Yo"
      },
      "execution_count": null,
      "outputs": []
    },
    {
      "cell_type": "code",
      "source": [
        "#apply multiple aggregation function\n",
        "grouped = df.groupby([\"name\"])\n",
        "grouped.agg({\"qty\":[\"mean\",\"sum\",\"max\",\"min\"],\n",
        "            \"price\":[\"median\",\"max\",\"min\"]}).reset_index()"
      ],
      "metadata": {
        "id": "5_Ny46oHHtTB"
      },
      "execution_count": null,
      "outputs": []
    },
    {
      "cell_type": "markdown",
      "source": [
        "####Named result (memberi nama hasil agregasi)\n",
        "\n",
        "Secara default, nama kolom agregasi sama dengan nama fungsi, misalnya sum, mean, dll.\n",
        "Untuk mengganti nama kolom hasil, panggil fungsi tersebut sebagai tupel dan assign hasil fungsi tersebut ke nama yang diinginkan\n"
      ],
      "metadata": {
        "id": "Aqk_tgjTHR5o"
      }
    },
    {
      "cell_type": "code",
      "source": [
        "#named result\n",
        "grouped = df.groupby([\"name\"])\n",
        "grouped.agg(\n",
        "    min_qty=('qty','min'),\n",
        "    max_price=('price','max'),\n",
        "    mean_price=('price','mean')\n",
        "   )#.reset_index()"
      ],
      "metadata": {
        "id": "0401TVAk47P2"
      },
      "execution_count": null,
      "outputs": []
    },
    {
      "cell_type": "markdown",
      "source": [
        "##Visualizing Pandas"
      ],
      "metadata": {
        "id": "q0Ax9KgqIokO"
      }
    },
    {
      "cell_type": "markdown",
      "source": [
        "Pandas menyediakan fungsi ‘pembungkus’ untuk matplotlib\n",
        "Gunakan parameter `kind` dengan fungsi `df.plot`, atau gunakan fungsi `df.plot.<kind>`\n",
        "\n",
        "Pandas plot menggunakan index sebagai default x value\n"
      ],
      "metadata": {
        "id": "gd9kyfDiIsQQ"
      }
    },
    {
      "cell_type": "code",
      "source": [
        "df = pd.DataFrame({\n",
        "    'name': ['apple','apple','apple','pear','pear','banana','banana','cherry','lemon','lemon'],\n",
        "    'color': ['red','green','green','green','yellow','yellow','yellow','red','yellow','orange'],\n",
        "    'qty': [4, 4, 5, 6, 15, 15, 13.0, 10, 6, 5],\n",
        "    'price': [10, 10, 15, 20, 25, 15, 15, 18, 10, 12]\n",
        "    })\n",
        "\n",
        "df"
      ],
      "metadata": {
        "id": "vZnq2SSxPzmZ"
      },
      "execution_count": null,
      "outputs": []
    },
    {
      "cell_type": "markdown",
      "source": [
        "Contoh : bar plot"
      ],
      "metadata": {
        "id": "fgv8b90WJED7"
      }
    },
    {
      "cell_type": "code",
      "source": [
        "grouped = df.groupby([\"color\"])\n",
        "agg1 = grouped.agg(\n",
        "    avg_price=('price','mean'),\n",
        "    max_qty=('qty','max'),\n",
        "   )\n",
        "agg1.plot(kind='bar')"
      ],
      "metadata": {
        "id": "hjl57al0uqyI"
      },
      "execution_count": null,
      "outputs": []
    },
    {
      "cell_type": "code",
      "source": [
        "df.plot.bar()"
      ],
      "metadata": {
        "id": "ECtjCMG19DS4"
      },
      "execution_count": null,
      "outputs": []
    },
    {
      "cell_type": "markdown",
      "source": [
        "Contoh : scatter plot"
      ],
      "metadata": {
        "id": "kh_QvQjpJRvf"
      }
    },
    {
      "cell_type": "code",
      "source": [
        "df.plot(x=\"qty\", y=\"price\", kind=\"scatter\")"
      ],
      "metadata": {
        "id": "7tV8JWRgJONg"
      },
      "execution_count": null,
      "outputs": []
    },
    {
      "cell_type": "code",
      "source": [
        "df['color'].value_counts()"
      ],
      "metadata": {
        "id": "fcn_rPeRoIap"
      },
      "execution_count": null,
      "outputs": []
    },
    {
      "cell_type": "code",
      "source": [
        "df['color'].value_counts().plot(kind='bar')"
      ],
      "metadata": {
        "id": "JH1EAD4zItRM"
      },
      "execution_count": null,
      "outputs": []
    },
    {
      "cell_type": "code",
      "source": [
        "df['color'].value_counts().plot.pie()"
      ],
      "metadata": {
        "id": "fiMvRFbLnNAA"
      },
      "execution_count": null,
      "outputs": []
    },
    {
      "cell_type": "markdown",
      "source": [
        "###Seaborn plot"
      ],
      "metadata": {
        "id": "Lq3n8BdW6_s1"
      }
    },
    {
      "cell_type": "code",
      "source": [
        "sns.countplot(df['color'], palette=\"plasma\")"
      ],
      "metadata": {
        "id": "yhMemVWbae1J"
      },
      "execution_count": null,
      "outputs": []
    },
    {
      "cell_type": "code",
      "source": [
        "sns.scatterplot(x=\"qty\", y=\"price\", data=df)"
      ],
      "metadata": {
        "id": "q3vEV14JEfKT"
      },
      "execution_count": null,
      "outputs": []
    },
    {
      "cell_type": "markdown",
      "source": [
        "##I/O Operations\n",
        "\n",
        "* The pandas I/O API is a set of top level reader & writers functions, in the form of pandas.read_file format() and pandas.to_file format()\n",
        "* Some of the popular readers functions are pandas.read_csv(), pandas.read_json(), pandas.read_sql(), and pandas.read_pickles()\n",
        "* For complete list of available reader & writers see https://pandas.pydata.org/docs/user_guide/io.html\n",
        "\n",
        "\n",
        "###Save to json"
      ],
      "metadata": {
        "id": "b3IjQdrr29hP"
      }
    },
    {
      "cell_type": "code",
      "source": [
        "df = pd.DataFrame({\n",
        "    'name': ['apple','apple','apple','pear','pear','banana','banana','cherry','lemon','lemon'],\n",
        "    'color': ['red','green','green','green','yellow','yellow','yellow','red','yellow','orange'],\n",
        "    'qty': [4, 4, 5, 6, 15, 15, 13.0, 10, 6, 5],\n",
        "    'price': [10, 10, 15, 20, 25, 15, 15, 18, 10, 12]\n",
        "    })\n",
        "\n",
        "df"
      ],
      "metadata": {
        "id": "P8ZvkwwK3B55"
      },
      "execution_count": null,
      "outputs": []
    },
    {
      "cell_type": "code",
      "source": [
        "df.to_json()#orient='columns')"
      ],
      "metadata": {
        "id": "Hx35zcRh3E-Q"
      },
      "execution_count": null,
      "outputs": []
    },
    {
      "cell_type": "code",
      "source": [
        "df.to_json(orient='split')"
      ],
      "metadata": {
        "id": "v4CeI8cW3Lkc"
      },
      "execution_count": null,
      "outputs": []
    },
    {
      "cell_type": "code",
      "source": [
        "df.to_json(orient='records')"
      ],
      "metadata": {
        "id": "PLudtAwc3eSi"
      },
      "execution_count": null,
      "outputs": []
    },
    {
      "cell_type": "code",
      "source": [
        "df.to_json(orient='values')"
      ],
      "metadata": {
        "id": "dZSVLNqm3gUl"
      },
      "execution_count": null,
      "outputs": []
    }
  ]
}
