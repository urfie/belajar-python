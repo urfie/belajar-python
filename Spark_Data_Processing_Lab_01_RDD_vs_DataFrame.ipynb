{
  "nbformat": 4,
  "nbformat_minor": 0,
  "metadata": {
    "colab": {
      "provenance": []
    },
    "kernelspec": {
      "name": "python3",
      "display_name": "Python 3"
    }
  },
  "cells": [
    {
      "cell_type": "markdown",
      "source": [
        "Dalam latihan ini kita akan melihat perbedaan fungsi dan operasi antara RDD dan DataFrame, yaitu filtering dan agregasi."
      ],
      "metadata": {
        "id": "OCH4pZBocq0N"
      }
    },
    {
      "cell_type": "markdown",
      "source": [
        "Instal pyspark"
      ],
      "metadata": {
        "id": "fQeTdO4cX6h9"
      }
    },
    {
      "cell_type": "code",
      "metadata": {
        "id": "hMXOGEjGU0VR",
        "colab": {
          "base_uri": "https://localhost:8080/"
        },
        "outputId": "6db65ccb-8583-47f9-c684-11cd4a2c2d9d"
      },
      "source": [
        "!pip install pyspark"
      ],
      "execution_count": null,
      "outputs": [
        {
          "output_type": "stream",
          "name": "stdout",
          "text": [
            "Looking in indexes: https://pypi.org/simple, https://us-python.pkg.dev/colab-wheels/public/simple/\n",
            "Collecting pyspark\n",
            "  Downloading pyspark-3.3.1.tar.gz (281.4 MB)\n",
            "\u001b[2K     \u001b[90m━━━━━━━━━━━━━━━━━━━━━━━━━━━━━━━━━━━━━━━\u001b[0m \u001b[32m281.4/281.4 MB\u001b[0m \u001b[31m4.8 MB/s\u001b[0m eta \u001b[36m0:00:00\u001b[0m\n",
            "\u001b[?25h  Preparing metadata (setup.py) ... \u001b[?25l\u001b[?25hdone\n",
            "Collecting py4j==0.10.9.5\n",
            "  Downloading py4j-0.10.9.5-py2.py3-none-any.whl (199 kB)\n",
            "\u001b[2K     \u001b[90m━━━━━━━━━━━━━━━━━━━━━━━━━━━━━━━━━━━━━━\u001b[0m \u001b[32m199.7/199.7 KB\u001b[0m \u001b[31m19.8 MB/s\u001b[0m eta \u001b[36m0:00:00\u001b[0m\n",
            "\u001b[?25hBuilding wheels for collected packages: pyspark\n",
            "  Building wheel for pyspark (setup.py) ... \u001b[?25l\u001b[?25hdone\n",
            "  Created wheel for pyspark: filename=pyspark-3.3.1-py2.py3-none-any.whl size=281845512 sha256=76bec352814161fc2f37e25801e46bc1004bcb4070b1da8446ed95cfe0347d23\n",
            "  Stored in directory: /root/.cache/pip/wheels/43/dc/11/ec201cd671da62fa9c5cc77078235e40722170ceba231d7598\n",
            "Successfully built pyspark\n",
            "Installing collected packages: py4j, pyspark\n",
            "Successfully installed py4j-0.10.9.5 pyspark-3.3.1\n"
          ]
        }
      ]
    },
    {
      "cell_type": "markdown",
      "source": [
        "Import package yang dibutuhkan"
      ],
      "metadata": {
        "id": "Bggy7DeBX-1c"
      }
    },
    {
      "cell_type": "code",
      "metadata": {
        "id": "p0CyPWlHU5oL"
      },
      "source": [
        "import pyspark\n",
        "from pyspark.sql import SparkSession\n",
        "from pyspark.sql.functions import avg"
      ],
      "execution_count": null,
      "outputs": []
    },
    {
      "cell_type": "markdown",
      "source": [
        "Create spark session"
      ],
      "metadata": {
        "id": "3s0yTjp_X2JP"
      }
    },
    {
      "cell_type": "code",
      "metadata": {
        "id": "RFeguv1rU6lq"
      },
      "source": [
        "spark = SparkSession.builder.appName('DataFrame Basics').getOrCreate()"
      ],
      "execution_count": null,
      "outputs": []
    },
    {
      "cell_type": "markdown",
      "source": [
        "## Create \n",
        "\n"
      ],
      "metadata": {
        "id": "sbnDZElFYM5M"
      }
    },
    {
      "cell_type": "markdown",
      "source": [
        "### Create RDD\n",
        "\n",
        "Create spark RDD dengan menggunakan fungsi `sparkContext.parallelize()`"
      ],
      "metadata": {
        "id": "PqiNheFLr0ST"
      }
    },
    {
      "cell_type": "code",
      "metadata": {
        "id": "4VUblqaN4kbP"
      },
      "source": [
        "# Create an RDD of tuples (province, population, district)\n",
        "dataRDD = spark.sparkContext.parallelize([(\"Banten\",1222258,\"Lebak\"),\n",
        "(\"Banten\",1175148,\"Pandeglang\"),\n",
        "(\"Banten\",1435003,\"Serang\"),\n",
        "(\"Banten\",2619803,\"Tangerang\"),\n",
        "(\"DKI Jakarta\",23340,\"Kepulauan Seribu\"),\n",
        "(\"DKI Jakarta\",2185711,\"Jakarta Selatan\"),\n",
        "(\"DKI Jakarta\",2843816,\"Jakarta Timur\"),\n",
        "(\"DKI Jakarta\",914182,\"Jakarta Pusat\"),\n",
        "(\"DKI Jakarta\",2463560,\"Jakarta Barat\"),\n",
        "(\"DKI Jakarta\",1747315,\"Jakarta Utara\")])\n"
      ],
      "execution_count": null,
      "outputs": []
    },
    {
      "cell_type": "markdown",
      "source": [
        "Tampilkan hasilnya dengan perintah `collect`\n",
        "\n",
        "**Perhatikan** bahwa ketika kita memanggil perintah `collect()` terhadap sebuah RDD ataupun Dataset, **seluruh data dalam RDD tersebut akan dikirim ke node di mana driver berada**. Oleh karena itu perlu dipertimbangkan ukuran data sebelum memanggil fungsi `collect`."
      ],
      "metadata": {
        "id": "YhfZPsP3w5ff"
      }
    },
    {
      "cell_type": "code",
      "source": [
        "dataRDD.collect()"
      ],
      "metadata": {
        "colab": {
          "base_uri": "https://localhost:8080/"
        },
        "id": "TlcgICGqxCH3",
        "outputId": "4703da81-5d0f-40be-8594-dbe226b06baf"
      },
      "execution_count": null,
      "outputs": [
        {
          "output_type": "execute_result",
          "data": {
            "text/plain": [
              "[('Banten', 1222258, 'Lebak'),\n",
              " ('Banten', 1175148, 'Pandeglang'),\n",
              " ('Banten', 1435003, 'Serang'),\n",
              " ('Banten', 2619803, 'Tangerang'),\n",
              " ('DKI Jakarta', 23340, 'Kepulauan Seribu'),\n",
              " ('DKI Jakarta', 2185711, 'Jakarta Selatan'),\n",
              " ('DKI Jakarta', 2843816, 'Jakarta Timur'),\n",
              " ('DKI Jakarta', 914182, 'Jakarta Pusat'),\n",
              " ('DKI Jakarta', 2463560, 'Jakarta Barat'),\n",
              " ('DKI Jakarta', 1747315, 'Jakarta Utara')]"
            ]
          },
          "metadata": {},
          "execution_count": 5
        }
      ]
    },
    {
      "cell_type": "markdown",
      "source": [
        "### Create DataFrame\n",
        "Create DataFrame dengan menggunakan fungsi `createDataFrame()`"
      ],
      "metadata": {
        "id": "roHJPpLMr5z5"
      }
    },
    {
      "cell_type": "code",
      "metadata": {
        "id": "LGHSciY25h0d"
      },
      "source": [
        "dataDF = spark.createDataFrame([(\"Banten\",1222258,\"Lebak\"),\n",
        "(\"Banten\",1175148,\"Pandeglang\"),\n",
        "(\"Banten\",1435003,\"Serang\"),\n",
        "(\"Banten\",2619803,\"Tangerang\"),\n",
        "(\"DKI Jakarta\",23340,\"Kepulauan Seribu\"),\n",
        "(\"DKI Jakarta\",2185711,\"Jakarta Selatan\"),\n",
        "(\"DKI Jakarta\",2843816,\"Jakarta Timur\"),\n",
        "(\"DKI Jakarta\",914182,\"Jakarta Pusat\"),\n",
        "(\"DKI Jakarta\",2463560,\"Jakarta Barat\"),\n",
        "(\"DKI Jakarta\",1747315,\"Jakarta Utara\")], [\"province\", \"pop\",\"district\"])\n"
      ],
      "execution_count": null,
      "outputs": []
    },
    {
      "cell_type": "markdown",
      "source": [
        "Tampilkan hasilnya dengan perintah `show`"
      ],
      "metadata": {
        "id": "UE6tIFDzxGeW"
      }
    },
    {
      "cell_type": "code",
      "source": [
        "dataDF.show()"
      ],
      "metadata": {
        "colab": {
          "base_uri": "https://localhost:8080/"
        },
        "id": "IPeR7SrrxJyg",
        "outputId": "06c1f9d1-ea75-46a3-9c4b-8f2e9c1fff97"
      },
      "execution_count": null,
      "outputs": [
        {
          "output_type": "stream",
          "name": "stdout",
          "text": [
            "+-----------+-------+----------------+\n",
            "|   province|    pop|        district|\n",
            "+-----------+-------+----------------+\n",
            "|     Banten|1222258|           Lebak|\n",
            "|     Banten|1175148|      Pandeglang|\n",
            "|     Banten|1435003|          Serang|\n",
            "|     Banten|2619803|       Tangerang|\n",
            "|DKI Jakarta|  23340|Kepulauan Seribu|\n",
            "|DKI Jakarta|2185711| Jakarta Selatan|\n",
            "|DKI Jakarta|2843816|   Jakarta Timur|\n",
            "|DKI Jakarta| 914182|   Jakarta Pusat|\n",
            "|DKI Jakarta|2463560|   Jakarta Barat|\n",
            "|DKI Jakarta|1747315|   Jakarta Utara|\n",
            "+-----------+-------+----------------+\n",
            "\n"
          ]
        }
      ]
    },
    {
      "cell_type": "markdown",
      "source": [
        "### Filter data RDD\n",
        "\n",
        "Untuk melakukan filtering RDD, kita menggunakan fungsi transformasi `filter`, dengan parameter berupa ekspresi `lambda`.\n",
        "\n",
        "RDD tidak memiliki skema, sehingga kita mengakses baris dan kolom dengan menggunakan indeks.\n",
        "\n",
        "Perhatikan bahwa perintah-perintah ini tidak langsung dijalankan oleh Spark, meskipun kita meng-execute cell yang bersangkutan."
      ],
      "metadata": {
        "id": "LdYZIRwftOw7"
      }
    },
    {
      "cell_type": "code",
      "source": [
        "rddf = dataRDD.filter(lambda x: x[0] == 'Banten')\n"
      ],
      "metadata": {
        "id": "5WyfOAWduMo6"
      },
      "execution_count": null,
      "outputs": []
    },
    {
      "cell_type": "markdown",
      "source": [
        "Untuk menampilkan hasilnya, gunakan perintah `collect()`. Perintah ini akan men-trigger eksekusi Spark."
      ],
      "metadata": {
        "id": "zcSAyDpOvfhl"
      }
    },
    {
      "cell_type": "code",
      "source": [
        "rddf.collect()"
      ],
      "metadata": {
        "colab": {
          "base_uri": "https://localhost:8080/"
        },
        "id": "Q1iyZXw_vgfb",
        "outputId": "633d52e1-b50c-45dd-b1f1-68fe0bee1434"
      },
      "execution_count": null,
      "outputs": [
        {
          "output_type": "execute_result",
          "data": {
            "text/plain": [
              "[('Banten', 1222258, 'Lebak'),\n",
              " ('Banten', 1175148, 'Pandeglang'),\n",
              " ('Banten', 1435003, 'Serang'),\n",
              " ('Banten', 2619803, 'Tangerang')]"
            ]
          },
          "metadata": {},
          "execution_count": 9
        }
      ]
    },
    {
      "cell_type": "markdown",
      "source": [
        "### Filtering DataFrame\n",
        "\n",
        "Untuk melakukan filtering, digunakan fungsi `filter`. \n",
        "\n",
        "Karena DataFrame memiliki skema, maka kita dapat menggunakan nama kolom untuk melakukan filtering"
      ],
      "metadata": {
        "id": "mBiVzq29wAVW"
      }
    },
    {
      "cell_type": "code",
      "source": [
        "dff = dataDF.filter(dataDF['province'] == 'Banten')"
      ],
      "metadata": {
        "id": "9jDP0vOwvGse"
      },
      "execution_count": null,
      "outputs": []
    },
    {
      "cell_type": "markdown",
      "source": [
        "Tampilkan hasilnya dengan perintah `show`"
      ],
      "metadata": {
        "id": "qBCdRtoevjiR"
      }
    },
    {
      "cell_type": "code",
      "source": [
        "dff.show()"
      ],
      "metadata": {
        "colab": {
          "base_uri": "https://localhost:8080/"
        },
        "id": "RS1F_-FRvj1g",
        "outputId": "cae61ba1-7c7f-4273-e7f7-92bad61018eb"
      },
      "execution_count": null,
      "outputs": [
        {
          "output_type": "stream",
          "name": "stdout",
          "text": [
            "+--------+-------+----------+\n",
            "|province|    pop|  district|\n",
            "+--------+-------+----------+\n",
            "|  Banten|1222258|     Lebak|\n",
            "|  Banten|1175148|Pandeglang|\n",
            "|  Banten|1435003|    Serang|\n",
            "|  Banten|2619803| Tangerang|\n",
            "+--------+-------+----------+\n",
            "\n"
          ]
        }
      ]
    },
    {
      "cell_type": "markdown",
      "source": [
        "## Group by dan Agregasi "
      ],
      "metadata": {
        "id": "z9BUd7bkr-1y"
      }
    },
    {
      "cell_type": "markdown",
      "source": [
        "### RDD\n",
        "\n",
        "Untuk melakukan group by dan agregasi pada RDD, kita menggunakan fungsi transformasi `map` dan `reduceByKey`, dengan mengirimkan fungsi `lambda` sebagai parameter operasinya.\n",
        "\n",
        "- `map` menerapkan ekspresi `lambda` pada **setiap element x** RDD \n",
        "- `reduceByKey` melakukan operasi agregasi berdasar key tertentu sesuai ekspresi `lambda` "
      ],
      "metadata": {
        "id": "8H2TrkMIY7N6"
      }
    },
    {
      "cell_type": "code",
      "source": [
        "# map 1       : tambahkan integer 1 di tiap row untuk melakukan count\n",
        "# reduceByKey : jumlahkan (sum) kolom populasi dan count\n",
        "# map 2       : hitung rata-rata dengan operasi : sum(populasi)/count\n",
        "\n",
        "popRDD = (dataRDD  \\\n",
        "           .map(lambda x: (x[0], (x[1], 1)))  \\\n",
        "           .reduceByKey(lambda x, y: (x[0] + y[0], x[1] + y[1]))  \\\n",
        "           .map(lambda x: (x[0], x[1][0]/x[1][1])))                 "
      ],
      "metadata": {
        "id": "jc4mjEUdYxk5"
      },
      "execution_count": null,
      "outputs": []
    },
    {
      "cell_type": "markdown",
      "source": [
        "Tampilkan hasilnya"
      ],
      "metadata": {
        "id": "NNZjZdbbY4rV"
      }
    },
    {
      "cell_type": "code",
      "source": [
        "popRDD.collect()"
      ],
      "metadata": {
        "colab": {
          "base_uri": "https://localhost:8080/"
        },
        "id": "nN6mcrp0Y3DL",
        "outputId": "e5cd2063-5a62-4f0d-f3c9-fdbc5fe613a8"
      },
      "execution_count": null,
      "outputs": [
        {
          "output_type": "execute_result",
          "data": {
            "text/plain": [
              "[('DKI Jakarta', 1696320.6666666667), ('Banten', 1613053.0)]"
            ]
          },
          "metadata": {},
          "execution_count": 13
        }
      ]
    },
    {
      "cell_type": "markdown",
      "source": [
        "### DataFrame"
      ],
      "metadata": {
        "id": "nXJ-1pHDbcm0"
      }
    },
    {
      "cell_type": "markdown",
      "source": [
        "Groupby dan agregat dengan menggunakan fungsi `groupBy` dan `agg`. "
      ],
      "metadata": {
        "id": "TKq6t6Tfb5by"
      }
    },
    {
      "cell_type": "code",
      "source": [
        "# Group by province name and average population \n",
        "avgDF = dataDF.groupBy(\"province\").agg(avg(\"pop\"))"
      ],
      "metadata": {
        "id": "qP52TuuqcDJF"
      },
      "execution_count": null,
      "outputs": []
    },
    {
      "cell_type": "markdown",
      "source": [
        "Tampilkan hasilnya "
      ],
      "metadata": {
        "id": "WHGaT6cIcE8q"
      }
    },
    {
      "cell_type": "code",
      "source": [
        "# Show the results\n",
        "avgDF.show()"
      ],
      "metadata": {
        "colab": {
          "base_uri": "https://localhost:8080/"
        },
        "id": "JTKnSA9wcF39",
        "outputId": "ebb5726c-1690-47f9-8a90-48c3ddeeb36b"
      },
      "execution_count": null,
      "outputs": [
        {
          "output_type": "stream",
          "name": "stdout",
          "text": [
            "+-----------+------------------+\n",
            "|   province|          avg(pop)|\n",
            "+-----------+------------------+\n",
            "|DKI Jakarta|1696320.6666666667|\n",
            "|     Banten|         1613053.0|\n",
            "+-----------+------------------+\n",
            "\n"
          ]
        }
      ]
    },
    {
      "cell_type": "code",
      "metadata": {
        "id": "PVINf-A0QKUt"
      },
      "source": [
        "#spark.sql(\"SET -v\").select(\"key\", \"value\").show(n=200, truncate=False)"
      ],
      "execution_count": null,
      "outputs": []
    },
    {
      "cell_type": "code",
      "metadata": {
        "id": "6F-qzdBNQbVC"
      },
      "source": [
        " #spark.conf.get(\"spark.sql.shuffle.partitions\")"
      ],
      "execution_count": null,
      "outputs": []
    },
    {
      "cell_type": "code",
      "metadata": {
        "id": "JToY6abDQgsP"
      },
      "source": [
        " #spark.conf.set(\"spark.sql.shuffle.partitions\", 5)"
      ],
      "execution_count": null,
      "outputs": []
    },
    {
      "cell_type": "code",
      "metadata": {
        "id": "Ov7Rk7DoWuHg"
      },
      "source": [
        "#spark.conf.get(\"spark.default.parallelism\")"
      ],
      "execution_count": null,
      "outputs": []
    },
    {
      "cell_type": "markdown",
      "source": [
        "## "
      ],
      "metadata": {
        "id": "S9rGOTLaMiAv"
      }
    },
    {
      "cell_type": "markdown",
      "source": [
        "Update history\n",
        "\n",
        "2301.1729\n",
        "* _Add filtering_\n",
        "* _Code cleanup_\n",
        "* _Add comments & explanations_"
      ],
      "metadata": {
        "id": "7DdwjgSyhmoH"
      }
    }
  ]
}